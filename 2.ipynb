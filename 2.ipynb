{
 "metadata": {
  "name": "",
  "signature": "sha256:468afcdba58042f81fb848566234ea00db035305e01f7a32384004912e7dd35b"
 },
 "nbformat": 3,
 "nbformat_minor": 0,
 "worksheets": [
  {
   "cells": [
    {
     "cell_type": "heading",
     "level": 1,
     "metadata": {
      "slideshow": {
       "slide_type": "slide"
      }
     },
     "source": [
      "Data Management with pandas (Python) 2"
     ]
    },
    {
     "cell_type": "markdown",
     "metadata": {},
     "source": [
      "May, 2014\n",
      "\n",
      "Chang Y. Chung"
     ]
    },
    {
     "cell_type": "heading",
     "level": 2,
     "metadata": {
      "slideshow": {
       "slide_type": "slide"
      }
     },
     "source": [
      "What is `DataFrame`?"
     ]
    },
    {
     "cell_type": "markdown",
     "metadata": {},
     "source": [
      "The reference defines it:\n",
      "\n",
      "> Two-dimentional size-mutable, potentially heterogenious tabular data structure with labeled axes (rows and columns)"
     ]
    },
    {
     "cell_type": "markdown",
     "metadata": {
      "slideshow": {
       "slide_type": "slide"
      }
     },
     "source": [
      "Here is a longer way to approach it from the perspective of data structures."
     ]
    },
    {
     "cell_type": "markdown",
     "metadata": {},
     "source": [
      "* NumPy ndarray is an array of `dtype` elements `shape`d. "
     ]
    },
    {
     "cell_type": "code",
     "collapsed": false,
     "input": [
      "import numpy as np\n",
      "\n",
      "rid = np.array([0, 1, 2, 3])\n",
      "rid, rid.dtype, rid.shape"
     ],
     "language": "python",
     "metadata": {},
     "outputs": [
      {
       "metadata": {},
       "output_type": "pyout",
       "prompt_number": 103,
       "text": [
        "(array([0, 1, 2, 3]), dtype('int64'), (4,))"
       ]
      }
     ],
     "prompt_number": 103
    },
    {
     "cell_type": "markdown",
     "metadata": {
      "slideshow": {
       "slide_type": "slide"
      }
     },
     "source": [
      "* pandas `Series` is an ndarray with an `index` and `name`."
     ]
    },
    {
     "cell_type": "code",
     "collapsed": false,
     "input": [
      "import pandas as pd\n",
      "\n",
      "s1 = pd.Series(\n",
      "    ['Abe', 'Babe', 'Colombe', 'Daube'],\n",
      "    index = rid,\n",
      "    name='firstname')\n",
      "s1"
     ],
     "language": "python",
     "metadata": {},
     "outputs": [
      {
       "metadata": {},
       "output_type": "pyout",
       "prompt_number": 104,
       "text": [
        "0        Abe\n",
        "1       Babe\n",
        "2    Colombe\n",
        "3      Daube\n",
        "Name: firstname, dtype: object"
       ]
      }
     ],
     "prompt_number": 104
    },
    {
     "cell_type": "markdown",
     "metadata": {
      "slideshow": {
       "slide_type": "fragment"
      }
     },
     "source": [
      "Let's create another `Series`, age."
     ]
    },
    {
     "cell_type": "code",
     "collapsed": false,
     "input": [
      "s2 = pd.Series([23, 20, 22], index=[0, 1, 3], name='age')\n",
      "s2"
     ],
     "language": "python",
     "metadata": {
      "slideshow": {
       "slide_type": "fragment"
      }
     },
     "outputs": [
      {
       "metadata": {},
       "output_type": "pyout",
       "prompt_number": 105,
       "text": [
        "0    23\n",
        "1    20\n",
        "3    22\n",
        "Name: age, dtype: int64"
       ]
      }
     ],
     "prompt_number": 105
    },
    {
     "cell_type": "markdown",
     "metadata": {
      "slideshow": {
       "slide_type": "slide"
      }
     },
     "source": [
      "* `DataFrame` is an aligned dictionary of `Series`'."
     ]
    },
    {
     "cell_type": "code",
     "collapsed": false,
     "input": [
      "df = pd.DataFrame({s1.name: s1, s2.name: s2})\n",
      "df"
     ],
     "language": "python",
     "metadata": {},
     "outputs": [
      {
       "html": [
        "<div style=\"max-height:1000px;max-width:1500px;overflow:auto;\">\n",
        "<table border=\"1\" class=\"dataframe\">\n",
        "  <thead>\n",
        "    <tr style=\"text-align: right;\">\n",
        "      <th></th>\n",
        "      <th>age</th>\n",
        "      <th>firstname</th>\n",
        "    </tr>\n",
        "  </thead>\n",
        "  <tbody>\n",
        "    <tr>\n",
        "      <th>0</th>\n",
        "      <td> 23</td>\n",
        "      <td>     Abe</td>\n",
        "    </tr>\n",
        "    <tr>\n",
        "      <th>1</th>\n",
        "      <td> 20</td>\n",
        "      <td>    Babe</td>\n",
        "    </tr>\n",
        "    <tr>\n",
        "      <th>2</th>\n",
        "      <td>NaN</td>\n",
        "      <td> Colombe</td>\n",
        "    </tr>\n",
        "    <tr>\n",
        "      <th>3</th>\n",
        "      <td> 22</td>\n",
        "      <td>   Daube</td>\n",
        "    </tr>\n",
        "  </tbody>\n",
        "</table>\n",
        "<p>4 rows \u00d7 2 columns</p>\n",
        "</div>"
       ],
       "metadata": {},
       "output_type": "pyout",
       "prompt_number": 106,
       "text": [
        "   age firstname\n",
        "0   23       Abe\n",
        "1   20      Babe\n",
        "2  NaN   Colombe\n",
        "3   22     Daube\n",
        "\n",
        "[4 rows x 2 columns]"
       ]
      }
     ],
     "prompt_number": 106
    },
    {
     "cell_type": "markdown",
     "metadata": {
      "slideshow": {
       "slide_type": "fragment"
      }
     },
     "source": [
      "We now have two columns nicely aligned by matching the indices. Age did not have a value that was indexed by the number 2. When age was brought into the DataFrame, pandas aligned the indices and put the missing value, `np.nan`, there."
     ]
    },
    {
     "cell_type": "markdown",
     "metadata": {
      "slideshow": {
       "slide_type": "slide"
      }
     },
     "source": [
      "* Important properties of `DataFrame` includes: `index` (row label or 'observation id') and `columns` (column labels or 'variable name')."
     ]
    },
    {
     "cell_type": "code",
     "collapsed": false,
     "input": [
      "df.index"
     ],
     "language": "python",
     "metadata": {},
     "outputs": [
      {
       "metadata": {},
       "output_type": "pyout",
       "prompt_number": 107,
       "text": [
        "Int64Index([0, 1, 2, 3], dtype='int64')"
       ]
      }
     ],
     "prompt_number": 107
    },
    {
     "cell_type": "code",
     "collapsed": false,
     "input": [
      "df.columns"
     ],
     "language": "python",
     "metadata": {
      "slideshow": {
       "slide_type": "fragment"
      }
     },
     "outputs": [
      {
       "metadata": {},
       "output_type": "pyout",
       "prompt_number": 108,
       "text": [
        "Index([u'age', u'firstname'], dtype='object')"
       ]
      }
     ],
     "prompt_number": 108
    },
    {
     "cell_type": "code",
     "collapsed": false,
     "input": [
      "df.dtypes"
     ],
     "language": "python",
     "metadata": {
      "slideshow": {
       "slide_type": "fragment"
      }
     },
     "outputs": [
      {
       "metadata": {},
       "output_type": "pyout",
       "prompt_number": 109,
       "text": [
        "age          float64\n",
        "firstname     object\n",
        "dtype: object"
       ]
      }
     ],
     "prompt_number": 109
    },
    {
     "cell_type": "markdown",
     "metadata": {
      "slideshow": {
       "slide_type": "fragment"
      }
     },
     "source": [
      "A NumPy ndarray or a Series has a `dtype`. `DataFrame` has `dtypes`, since each column has its own `dtype` and they can be different. A `dtypes` is a `Series`."
     ]
    },
    {
     "cell_type": "markdown",
     "metadata": {
      "slideshow": {
       "slide_type": "fragment"
      }
     },
     "source": [
      " * Notice that the age entry in the `dtypes` became *float*. This is because pandas does not have a proper missing value for an integer type. We will talk about this more later when we talk about missing values."
     ]
    },
    {
     "cell_type": "heading",
     "level": 2,
     "metadata": {
      "slideshow": {
       "slide_type": "slide"
      }
     },
     "source": [
      "Quiz"
     ]
    },
    {
     "cell_type": "markdown",
     "metadata": {},
     "source": [
      "Create a data frame of Age Specific Fertility Rate (ASFR) for women in Republic of Korea (South Korea) and US, for 2000-2005. Age ranges and ASFRs for five-year age range for both countries are geven below. \n",
      "Data are from *UN World Population Prospect 2006*."
     ]
    },
    {
     "cell_type": "code",
     "collapsed": false,
     "input": [
      "start = pd.Series(range(15, 46, 5))\n",
      "finish = start + 4\n",
      "age_range = ['{0}-{1}'.format(s, f) for s, f in zip(start, finish)]\n",
      "age_range"
     ],
     "language": "python",
     "metadata": {},
     "outputs": [
      {
       "metadata": {},
       "output_type": "pyout",
       "prompt_number": 110,
       "text": [
        "['15-19', '20-24', '25-29', '30-34', '35-39', '40-44', '45-49']"
       ]
      }
     ],
     "prompt_number": 110
    },
    {
     "cell_type": "code",
     "collapsed": false,
     "input": [
      "korea = [3.2, 33.1, 119.9, 72.8, 16.8, 2.5, 0.2]\n",
      "usa = [43.7, 104.5, 114.5, 93.5, 42.8, 8.5, 0.5]"
     ],
     "language": "python",
     "metadata": {},
     "outputs": [],
     "prompt_number": 111
    },
    {
     "cell_type": "code",
     "collapsed": false,
     "input": [
      "# create a DataFrame here.\n",
      "df = pd.DataFrame({'korea': korea, 'usa':usa}, index=age_range)\n",
      "df"
     ],
     "language": "python",
     "metadata": {},
     "outputs": [
      {
       "html": [
        "<div style=\"max-height:1000px;max-width:1500px;overflow:auto;\">\n",
        "<table border=\"1\" class=\"dataframe\">\n",
        "  <thead>\n",
        "    <tr style=\"text-align: right;\">\n",
        "      <th></th>\n",
        "      <th>korea</th>\n",
        "      <th>usa</th>\n",
        "    </tr>\n",
        "  </thead>\n",
        "  <tbody>\n",
        "    <tr>\n",
        "      <th>15-19</th>\n",
        "      <td>   3.2</td>\n",
        "      <td>  43.7</td>\n",
        "    </tr>\n",
        "    <tr>\n",
        "      <th>20-24</th>\n",
        "      <td>  33.1</td>\n",
        "      <td> 104.5</td>\n",
        "    </tr>\n",
        "    <tr>\n",
        "      <th>25-29</th>\n",
        "      <td> 119.9</td>\n",
        "      <td> 114.5</td>\n",
        "    </tr>\n",
        "    <tr>\n",
        "      <th>30-34</th>\n",
        "      <td>  72.8</td>\n",
        "      <td>  93.5</td>\n",
        "    </tr>\n",
        "    <tr>\n",
        "      <th>35-39</th>\n",
        "      <td>  16.8</td>\n",
        "      <td>  42.8</td>\n",
        "    </tr>\n",
        "    <tr>\n",
        "      <th>40-44</th>\n",
        "      <td>   2.5</td>\n",
        "      <td>   8.5</td>\n",
        "    </tr>\n",
        "    <tr>\n",
        "      <th>45-49</th>\n",
        "      <td>   0.2</td>\n",
        "      <td>   0.5</td>\n",
        "    </tr>\n",
        "  </tbody>\n",
        "</table>\n",
        "<p>7 rows \u00d7 2 columns</p>\n",
        "</div>"
       ],
       "metadata": {},
       "output_type": "pyout",
       "prompt_number": 112,
       "text": [
        "       korea    usa\n",
        "15-19    3.2   43.7\n",
        "20-24   33.1  104.5\n",
        "25-29  119.9  114.5\n",
        "30-34   72.8   93.5\n",
        "35-39   16.8   42.8\n",
        "40-44    2.5    8.5\n",
        "45-49    0.2    0.5\n",
        "\n",
        "[7 rows x 2 columns]"
       ]
      }
     ],
     "prompt_number": 112
    },
    {
     "cell_type": "heading",
     "level": 2,
     "metadata": {
      "slideshow": {
       "slide_type": "slide"
      }
     },
     "source": [
      "Creating DataFrame and I/O"
     ]
    },
    {
     "cell_type": "markdown",
     "metadata": {
      "slideshow": {
       "slide_type": "-"
      }
     },
     "source": [
      "There are many different ways to create a data frame."
     ]
    },
    {
     "cell_type": "markdown",
     "metadata": {},
     "source": [
      "* The constructor is flexible and takes different things as `data` arguments, not just a `Series`:\n",
      "    - a dictionary of columns\n",
      "    - a list of dictionaries\n",
      "    - a list of tuples\n",
      "    - another DataFrame\n",
      "    - ..."
     ]
    },
    {
     "cell_type": "markdown",
     "metadata": {
      "slideshow": {
       "slide_type": "slide"
      }
     },
     "source": [
      "Below is an example of the `DataFrame` constructor taking in a list of tuples."
     ]
    },
    {
     "cell_type": "code",
     "collapsed": false,
     "input": [
      "df2 = pd.DataFrame([\n",
      "  ('SNSD', 'female', 9),\n",
      "  ('Big Bang', 'male', 5)\n",
      "], columns=['band', 'gender', 'size'])\n",
      "df2"
     ],
     "language": "python",
     "metadata": {},
     "outputs": [
      {
       "html": [
        "<div style=\"max-height:1000px;max-width:1500px;overflow:auto;\">\n",
        "<table border=\"1\" class=\"dataframe\">\n",
        "  <thead>\n",
        "    <tr style=\"text-align: right;\">\n",
        "      <th></th>\n",
        "      <th>band</th>\n",
        "      <th>gender</th>\n",
        "      <th>size</th>\n",
        "    </tr>\n",
        "  </thead>\n",
        "  <tbody>\n",
        "    <tr>\n",
        "      <th>0</th>\n",
        "      <td>     SNSD</td>\n",
        "      <td> female</td>\n",
        "      <td> 9</td>\n",
        "    </tr>\n",
        "    <tr>\n",
        "      <th>1</th>\n",
        "      <td> Big Bang</td>\n",
        "      <td>   male</td>\n",
        "      <td> 5</td>\n",
        "    </tr>\n",
        "  </tbody>\n",
        "</table>\n",
        "<p>2 rows \u00d7 3 columns</p>\n",
        "</div>"
       ],
       "metadata": {},
       "output_type": "pyout",
       "prompt_number": 113,
       "text": [
        "       band  gender  size\n",
        "0      SNSD  female     9\n",
        "1  Big Bang    male     5\n",
        "\n",
        "[2 rows x 3 columns]"
       ]
      }
     ],
     "prompt_number": 113
    },
    {
     "cell_type": "markdown",
     "metadata": {
      "slideshow": {
       "slide_type": "slide"
      }
     },
     "source": [
      "* There are many ways to create a `DataFrame`, since pandas has many importing functions that return a `DataFrame`."
     ]
    },
    {
     "cell_type": "markdown",
     "metadata": {},
     "source": [
      "| data in this format        | import function |\n",
      "|-----------------|-----------------|\n",
      "| pickled object  | `read_pickle`   |\n",
      "| delimited text  | `read_table`    |\n",
      "| CSV             | `read_csv`      |\n",
      "| fixed-width text| `read_fwf`      |\n",
      "| clipboard       | `read_clipboard`|\n",
      "| excel           | `read_excel`    |\n",
      "| JSON string     | `read_json`     |\n",
      "| HTML table      | `read_html`     |\n",
      "| HDFStore(HDF5)  | `read_hdf`      |\n",
      "| SQL database    | `read_sql`      |\n",
      "| Google BigQuery | `read_gbq`      |\n",
      "| Stata           | `read_stata`    |"
     ]
    },
    {
     "cell_type": "markdown",
     "metadata": {
      "slideshow": {
       "slide_type": "fragment"
      }
     },
     "source": [
      "* `DataFrame` also has many corresponding methods that go the other way. That is, to *serialize* itself (or to write itself out) in various formats, including `to_pickle`, `to_csv`, `to_hdf`, `to_excel`, `to_json`, `to_stata`, `to_clipboard`, ..."
     ]
    },
    {
     "cell_type": "heading",
     "level": 2,
     "metadata": {
      "slideshow": {
       "slide_type": "slide"
      }
     },
     "source": [
      "I/O into and from a `DataFrame`"
     ]
    },
    {
     "cell_type": "markdown",
     "metadata": {},
     "source": [
      "Here is an example of:\n",
      "\n",
      "    1. Importing a Stata data file (auto.dta) into a pandas DataFrame\n",
      "    2. Saving only the foreign rows into a JSON file (foreign.json); and then\n",
      "    3. Read it back to `DataFrame` (df_foreign)"
     ]
    },
    {
     "cell_type": "code",
     "collapsed": false,
     "input": [
      "auto = pd.read_stata('auto.dta')\n",
      "auto.head(3)"
     ],
     "language": "python",
     "metadata": {
      "slideshow": {
       "slide_type": "fragment"
      }
     },
     "outputs": [
      {
       "html": [
        "<div style=\"max-height:1000px;max-width:1500px;overflow:auto;\">\n",
        "<table border=\"1\" class=\"dataframe\">\n",
        "  <thead>\n",
        "    <tr style=\"text-align: right;\">\n",
        "      <th></th>\n",
        "      <th>make</th>\n",
        "      <th>price</th>\n",
        "      <th>mpg</th>\n",
        "      <th>rep78</th>\n",
        "      <th>headroom</th>\n",
        "      <th>trunk</th>\n",
        "      <th>weight</th>\n",
        "      <th>length</th>\n",
        "      <th>turn</th>\n",
        "      <th>displacement</th>\n",
        "      <th>gear_ratio</th>\n",
        "      <th>foreign</th>\n",
        "    </tr>\n",
        "  </thead>\n",
        "  <tbody>\n",
        "    <tr>\n",
        "      <th>0</th>\n",
        "      <td> AMC Concord</td>\n",
        "      <td> 4099</td>\n",
        "      <td> 22</td>\n",
        "      <td>  3</td>\n",
        "      <td> 2.5</td>\n",
        "      <td> 11</td>\n",
        "      <td> 2930</td>\n",
        "      <td> 186</td>\n",
        "      <td> 40</td>\n",
        "      <td> 121</td>\n",
        "      <td> 3.58</td>\n",
        "      <td> Domestic</td>\n",
        "    </tr>\n",
        "    <tr>\n",
        "      <th>1</th>\n",
        "      <td>   AMC Pacer</td>\n",
        "      <td> 4749</td>\n",
        "      <td> 17</td>\n",
        "      <td>  3</td>\n",
        "      <td> 3.0</td>\n",
        "      <td> 11</td>\n",
        "      <td> 3350</td>\n",
        "      <td> 173</td>\n",
        "      <td> 40</td>\n",
        "      <td> 258</td>\n",
        "      <td> 2.53</td>\n",
        "      <td> Domestic</td>\n",
        "    </tr>\n",
        "    <tr>\n",
        "      <th>2</th>\n",
        "      <td>  AMC Spirit</td>\n",
        "      <td> 3799</td>\n",
        "      <td> 22</td>\n",
        "      <td>NaN</td>\n",
        "      <td> 3.0</td>\n",
        "      <td> 12</td>\n",
        "      <td> 2640</td>\n",
        "      <td> 168</td>\n",
        "      <td> 35</td>\n",
        "      <td> 121</td>\n",
        "      <td> 3.08</td>\n",
        "      <td> Domestic</td>\n",
        "    </tr>\n",
        "  </tbody>\n",
        "</table>\n",
        "<p>3 rows \u00d7 12 columns</p>\n",
        "</div>"
       ],
       "metadata": {},
       "output_type": "pyout",
       "prompt_number": 114,
       "text": [
        "          make  price  mpg  rep78  headroom  trunk  weight  length  turn  \\\n",
        "0  AMC Concord   4099   22      3       2.5     11    2930     186    40   \n",
        "1    AMC Pacer   4749   17      3       3.0     11    3350     173    40   \n",
        "2   AMC Spirit   3799   22    NaN       3.0     12    2640     168    35   \n",
        "\n",
        "   displacement  gear_ratio   foreign  \n",
        "0           121        3.58  Domestic  \n",
        "1           258        2.53  Domestic  \n",
        "2           121        3.08  Domestic  \n",
        "\n",
        "[3 rows x 12 columns]"
       ]
      }
     ],
     "prompt_number": 114
    },
    {
     "cell_type": "markdown",
     "metadata": {
      "slideshow": {
       "slide_type": "fragment"
      }
     },
     "source": [
      "Save the `columns` for the later use."
     ]
    },
    {
     "cell_type": "code",
     "collapsed": false,
     "input": [
      "cols = auto.columns.copy()\n",
      "cols"
     ],
     "language": "python",
     "metadata": {
      "slideshow": {
       "slide_type": "fragment"
      }
     },
     "outputs": [
      {
       "metadata": {},
       "output_type": "pyout",
       "prompt_number": 115,
       "text": [
        "Index([u'make', u'price', u'mpg', u'rep78', u'headroom', u'trunk', u'weight', u'length', u'turn', u'displacement', u'gear_ratio', u'foreign'], dtype='object')"
       ]
      }
     ],
     "prompt_number": 115
    },
    {
     "cell_type": "markdown",
     "metadata": {
      "slideshow": {
       "slide_type": "slide"
      }
     },
     "source": [
      "Select foreign makes only."
     ]
    },
    {
     "cell_type": "code",
     "collapsed": false,
     "input": [
      "foreign = auto[auto.foreign == 'Foreign']\n",
      "foreign.head(3)"
     ],
     "language": "python",
     "metadata": {},
     "outputs": [
      {
       "html": [
        "<div style=\"max-height:1000px;max-width:1500px;overflow:auto;\">\n",
        "<table border=\"1\" class=\"dataframe\">\n",
        "  <thead>\n",
        "    <tr style=\"text-align: right;\">\n",
        "      <th></th>\n",
        "      <th>make</th>\n",
        "      <th>price</th>\n",
        "      <th>mpg</th>\n",
        "      <th>rep78</th>\n",
        "      <th>headroom</th>\n",
        "      <th>trunk</th>\n",
        "      <th>weight</th>\n",
        "      <th>length</th>\n",
        "      <th>turn</th>\n",
        "      <th>displacement</th>\n",
        "      <th>gear_ratio</th>\n",
        "      <th>foreign</th>\n",
        "    </tr>\n",
        "  </thead>\n",
        "  <tbody>\n",
        "    <tr>\n",
        "      <th>52</th>\n",
        "      <td> Audi 5000</td>\n",
        "      <td> 9690</td>\n",
        "      <td> 17</td>\n",
        "      <td> 5</td>\n",
        "      <td> 3.0</td>\n",
        "      <td> 15</td>\n",
        "      <td> 2830</td>\n",
        "      <td> 189</td>\n",
        "      <td> 37</td>\n",
        "      <td> 131</td>\n",
        "      <td> 3.20</td>\n",
        "      <td> Foreign</td>\n",
        "    </tr>\n",
        "    <tr>\n",
        "      <th>53</th>\n",
        "      <td>  Audi Fox</td>\n",
        "      <td> 6295</td>\n",
        "      <td> 23</td>\n",
        "      <td> 3</td>\n",
        "      <td> 2.5</td>\n",
        "      <td> 11</td>\n",
        "      <td> 2070</td>\n",
        "      <td> 174</td>\n",
        "      <td> 36</td>\n",
        "      <td>  97</td>\n",
        "      <td> 3.70</td>\n",
        "      <td> Foreign</td>\n",
        "    </tr>\n",
        "    <tr>\n",
        "      <th>54</th>\n",
        "      <td>  BMW 320i</td>\n",
        "      <td> 9735</td>\n",
        "      <td> 25</td>\n",
        "      <td> 4</td>\n",
        "      <td> 2.5</td>\n",
        "      <td> 12</td>\n",
        "      <td> 2650</td>\n",
        "      <td> 177</td>\n",
        "      <td> 34</td>\n",
        "      <td> 121</td>\n",
        "      <td> 3.64</td>\n",
        "      <td> Foreign</td>\n",
        "    </tr>\n",
        "  </tbody>\n",
        "</table>\n",
        "<p>3 rows \u00d7 12 columns</p>\n",
        "</div>"
       ],
       "metadata": {},
       "output_type": "pyout",
       "prompt_number": 116,
       "text": [
        "         make  price  mpg  rep78  headroom  trunk  weight  length  turn  \\\n",
        "52  Audi 5000   9690   17      5       3.0     15    2830     189    37   \n",
        "53   Audi Fox   6295   23      3       2.5     11    2070     174    36   \n",
        "54   BMW 320i   9735   25      4       2.5     12    2650     177    34   \n",
        "\n",
        "    displacement  gear_ratio  foreign  \n",
        "52           131        3.20  Foreign  \n",
        "53            97        3.70  Foreign  \n",
        "54           121        3.64  Foreign  \n",
        "\n",
        "[3 rows x 12 columns]"
       ]
      }
     ],
     "prompt_number": 116
    },
    {
     "cell_type": "markdown",
     "metadata": {
      "slideshow": {
       "slide_type": "fragment"
      }
     },
     "source": [
      "And then write it out as a JSON string."
     ]
    },
    {
     "cell_type": "code",
     "collapsed": false,
     "input": [
      "foreign.to_json('foreign.json')"
     ],
     "language": "python",
     "metadata": {
      "slideshow": {
       "slide_type": "fragment"
      }
     },
     "outputs": [],
     "prompt_number": 117
    },
    {
     "cell_type": "markdown",
     "metadata": {
      "slideshow": {
       "slide_type": "slide"
      }
     },
     "source": [
      "Reading it back using the `read_json` method. While writing to JSON, the order of columns has  been changed. We fix it by re-indexing along the second axis (i.e. columns). And then show the first 3 rows."
     ]
    },
    {
     "cell_type": "code",
     "collapsed": false,
     "input": [
      "df_foreign = pd.read_json('foreign.json')\n",
      "df_foreign.reindex_axis(cols, axis=1).head(3)"
     ],
     "language": "python",
     "metadata": {},
     "outputs": [
      {
       "html": [
        "<div style=\"max-height:1000px;max-width:1500px;overflow:auto;\">\n",
        "<table border=\"1\" class=\"dataframe\">\n",
        "  <thead>\n",
        "    <tr style=\"text-align: right;\">\n",
        "      <th></th>\n",
        "      <th>make</th>\n",
        "      <th>price</th>\n",
        "      <th>mpg</th>\n",
        "      <th>rep78</th>\n",
        "      <th>headroom</th>\n",
        "      <th>trunk</th>\n",
        "      <th>weight</th>\n",
        "      <th>length</th>\n",
        "      <th>turn</th>\n",
        "      <th>displacement</th>\n",
        "      <th>gear_ratio</th>\n",
        "      <th>foreign</th>\n",
        "    </tr>\n",
        "  </thead>\n",
        "  <tbody>\n",
        "    <tr>\n",
        "      <th>52</th>\n",
        "      <td> Audi 5000</td>\n",
        "      <td> 9690</td>\n",
        "      <td> 17</td>\n",
        "      <td> 5</td>\n",
        "      <td> 3.0</td>\n",
        "      <td> 15</td>\n",
        "      <td> 2830</td>\n",
        "      <td> 189</td>\n",
        "      <td> 37</td>\n",
        "      <td> 131</td>\n",
        "      <td> 3.20</td>\n",
        "      <td> Foreign</td>\n",
        "    </tr>\n",
        "    <tr>\n",
        "      <th>53</th>\n",
        "      <td>  Audi Fox</td>\n",
        "      <td> 6295</td>\n",
        "      <td> 23</td>\n",
        "      <td> 3</td>\n",
        "      <td> 2.5</td>\n",
        "      <td> 11</td>\n",
        "      <td> 2070</td>\n",
        "      <td> 174</td>\n",
        "      <td> 36</td>\n",
        "      <td>  97</td>\n",
        "      <td> 3.70</td>\n",
        "      <td> Foreign</td>\n",
        "    </tr>\n",
        "    <tr>\n",
        "      <th>54</th>\n",
        "      <td>  BMW 320i</td>\n",
        "      <td> 9735</td>\n",
        "      <td> 25</td>\n",
        "      <td> 4</td>\n",
        "      <td> 2.5</td>\n",
        "      <td> 12</td>\n",
        "      <td> 2650</td>\n",
        "      <td> 177</td>\n",
        "      <td> 34</td>\n",
        "      <td> 121</td>\n",
        "      <td> 3.64</td>\n",
        "      <td> Foreign</td>\n",
        "    </tr>\n",
        "  </tbody>\n",
        "</table>\n",
        "<p>3 rows \u00d7 12 columns</p>\n",
        "</div>"
       ],
       "metadata": {},
       "output_type": "pyout",
       "prompt_number": 118,
       "text": [
        "         make  price  mpg  rep78  headroom  trunk  weight  length  turn  \\\n",
        "52  Audi 5000   9690   17      5       3.0     15    2830     189    37   \n",
        "53   Audi Fox   6295   23      3       2.5     11    2070     174    36   \n",
        "54   BMW 320i   9735   25      4       2.5     12    2650     177    34   \n",
        "\n",
        "    displacement  gear_ratio  foreign  \n",
        "52           131        3.20  Foreign  \n",
        "53            97        3.70  Foreign  \n",
        "54           121        3.64  Foreign  \n",
        "\n",
        "[3 rows x 12 columns]"
       ]
      }
     ],
     "prompt_number": 118
    },
    {
     "cell_type": "heading",
     "level": 2,
     "metadata": {
      "slideshow": {
       "slide_type": "slide"
      }
     },
     "source": [
      "Getting and Setting"
     ]
    },
    {
     "cell_type": "markdown",
     "metadata": {},
     "source": [
      "Once you have your data in a `DataFrame`, then you may naturally want to retrieve (*get*) and/or to change (*set*) the value or values."
     ]
    },
    {
     "cell_type": "markdown",
     "metadata": {},
     "source": [
      "Recall when we get/set a value in a NumPy ndarray, we use an integer position (and zero-) based index."
     ]
    },
    {
     "cell_type": "code",
     "collapsed": false,
     "input": [
      "import numpy as np\n",
      "\n",
      "a = np.array([\n",
      "    [0, 1, 2],\n",
      "    [3, 4, 5]\n",
      "])\n",
      "a[1,2] # get"
     ],
     "language": "python",
     "metadata": {},
     "outputs": [
      {
       "metadata": {},
       "output_type": "pyout",
       "prompt_number": 119,
       "text": [
        "5"
       ]
      }
     ],
     "prompt_number": 119
    },
    {
     "cell_type": "code",
     "collapsed": false,
     "input": [
      "a[1, 2] = 99 # set\n",
      "a"
     ],
     "language": "python",
     "metadata": {},
     "outputs": [
      {
       "metadata": {},
       "output_type": "pyout",
       "prompt_number": 120,
       "text": [
        "array([[ 0,  1,  2],\n",
        "       [ 3,  4, 99]])"
       ]
      }
     ],
     "prompt_number": 120
    },
    {
     "cell_type": "markdown",
     "metadata": {
      "slideshow": {
       "slide_type": "slide"
      }
     },
     "source": [
      "pandas data structures have *labels*, that can be non-integers. This permits us getting/setting via labels, in addition to doing so via integer positions. For instance,"
     ]
    },
    {
     "cell_type": "code",
     "collapsed": false,
     "input": [
      "s = pd.Series([0, 1, 2], index=['Abe', 'Betty', 'Caroline'])\n",
      "s"
     ],
     "language": "python",
     "metadata": {},
     "outputs": [
      {
       "metadata": {},
       "output_type": "pyout",
       "prompt_number": 121,
       "text": [
        "Abe         0\n",
        "Betty       1\n",
        "Caroline    2\n",
        "dtype: int64"
       ]
      }
     ],
     "prompt_number": 121
    },
    {
     "cell_type": "code",
     "collapsed": false,
     "input": [
      "print 'via label.            s[\\'Betty\\']=', s['Betty']\n",
      "print 'via integer position. s[1]=', s[1]"
     ],
     "language": "python",
     "metadata": {},
     "outputs": [
      {
       "output_type": "stream",
       "stream": "stdout",
       "text": [
        "via label.            s['Betty']= 1\n",
        "via integer position. s[1]= 1\n"
       ]
      }
     ],
     "prompt_number": 122
    },
    {
     "cell_type": "markdown",
     "metadata": {
      "slideshow": {
       "slide_type": "slide"
      }
     },
     "source": [
      "Getting a value does work. Considering that an index can be an integer, a better way is to tell pandas explicitly which way you intend the *key* should be understood."
     ]
    },
    {
     "cell_type": "markdown",
     "metadata": {},
     "source": [
      "If you mean the key to be:\n",
      "\n",
      "* a *label* (or index), then use `.loc`; \n",
      "* an integer *position*, then use `.iloc`."
     ]
    },
    {
     "cell_type": "code",
     "collapsed": false,
     "input": [
      "print 'via integer position. s.loc[\\'Betty\\']=', s.loc['Betty']\n",
      "print 'via label.            s.iloc[1]=', s.iloc[1]"
     ],
     "language": "python",
     "metadata": {},
     "outputs": [
      {
       "output_type": "stream",
       "stream": "stdout",
       "text": [
        "via integer position. s.loc['Betty']= 1\n",
        "via label.            s.iloc[1]= 1\n"
       ]
      }
     ],
     "prompt_number": 123
    },
    {
     "cell_type": "markdown",
     "metadata": {
      "slideshow": {
       "slide_type": "slide"
      }
     },
     "source": [
      "`.ix` permits both but assume it a label first, if not found, then a position. It is better to avoid it, if possible."
     ]
    },
    {
     "cell_type": "code",
     "collapsed": false,
     "input": [
      "s.ix['Betty'], s.ix[1]"
     ],
     "language": "python",
     "metadata": {},
     "outputs": [
      {
       "metadata": {},
       "output_type": "pyout",
       "prompt_number": 124,
       "text": [
        "(1, 1)"
       ]
      }
     ],
     "prompt_number": 124
    },
    {
     "cell_type": "markdown",
     "metadata": {
      "slideshow": {
       "slide_type": "slide"
      }
     },
     "source": [
      "This works the same way for a `DataFrame`. Only that it is a 2D object and we have a 2-tuple of integer positions with `.iloc` or a 2-tuple of labels with `.loc`.\n",
      "\n",
      "That is, given the following DataFrame. "
     ]
    },
    {
     "cell_type": "code",
     "collapsed": false,
     "input": [
      "df = pd.DataFrame([\n",
      "    (23, 'Abe'),\n",
      "    (20, 'Babe'),\n",
      "    (22, 'Daube')\n",
      "], index=['R1', 'R2', 'R3'], columns=['age', 'firstname'])\n",
      "df"
     ],
     "language": "python",
     "metadata": {},
     "outputs": [
      {
       "html": [
        "<div style=\"max-height:1000px;max-width:1500px;overflow:auto;\">\n",
        "<table border=\"1\" class=\"dataframe\">\n",
        "  <thead>\n",
        "    <tr style=\"text-align: right;\">\n",
        "      <th></th>\n",
        "      <th>age</th>\n",
        "      <th>firstname</th>\n",
        "    </tr>\n",
        "  </thead>\n",
        "  <tbody>\n",
        "    <tr>\n",
        "      <th>R1</th>\n",
        "      <td> 23</td>\n",
        "      <td>   Abe</td>\n",
        "    </tr>\n",
        "    <tr>\n",
        "      <th>R2</th>\n",
        "      <td> 20</td>\n",
        "      <td>  Babe</td>\n",
        "    </tr>\n",
        "    <tr>\n",
        "      <th>R3</th>\n",
        "      <td> 22</td>\n",
        "      <td> Daube</td>\n",
        "    </tr>\n",
        "  </tbody>\n",
        "</table>\n",
        "<p>3 rows \u00d7 2 columns</p>\n",
        "</div>"
       ],
       "metadata": {},
       "output_type": "pyout",
       "prompt_number": 125,
       "text": [
        "    age firstname\n",
        "R1   23       Abe\n",
        "R2   20      Babe\n",
        "R3   22     Daube\n",
        "\n",
        "[3 rows x 2 columns]"
       ]
      }
     ],
     "prompt_number": 125
    },
    {
     "cell_type": "code",
     "collapsed": false,
     "input": [
      "df.loc['R1', 'age'], df.iloc[0, 0]"
     ],
     "language": "python",
     "metadata": {
      "slideshow": {
       "slide_type": "fragment"
      }
     },
     "outputs": [
      {
       "metadata": {},
       "output_type": "pyout",
       "prompt_number": 126,
       "text": [
        "(23, 23)"
       ]
      }
     ],
     "prompt_number": 126
    },
    {
     "cell_type": "markdown",
     "metadata": {
      "slideshow": {
       "slide_type": "slide"
      }
     },
     "source": [
      "Setting a value is straight forward as well."
     ]
    },
    {
     "cell_type": "code",
     "collapsed": false,
     "input": [
      "df.loc['R1', 'age'] = 100\n",
      "df"
     ],
     "language": "python",
     "metadata": {},
     "outputs": [
      {
       "html": [
        "<div style=\"max-height:1000px;max-width:1500px;overflow:auto;\">\n",
        "<table border=\"1\" class=\"dataframe\">\n",
        "  <thead>\n",
        "    <tr style=\"text-align: right;\">\n",
        "      <th></th>\n",
        "      <th>age</th>\n",
        "      <th>firstname</th>\n",
        "    </tr>\n",
        "  </thead>\n",
        "  <tbody>\n",
        "    <tr>\n",
        "      <th>R1</th>\n",
        "      <td> 100</td>\n",
        "      <td>   Abe</td>\n",
        "    </tr>\n",
        "    <tr>\n",
        "      <th>R2</th>\n",
        "      <td>  20</td>\n",
        "      <td>  Babe</td>\n",
        "    </tr>\n",
        "    <tr>\n",
        "      <th>R3</th>\n",
        "      <td>  22</td>\n",
        "      <td> Daube</td>\n",
        "    </tr>\n",
        "  </tbody>\n",
        "</table>\n",
        "<p>3 rows \u00d7 2 columns</p>\n",
        "</div>"
       ],
       "metadata": {},
       "output_type": "pyout",
       "prompt_number": 127,
       "text": [
        "    age firstname\n",
        "R1  100       Abe\n",
        "R2   20      Babe\n",
        "R3   22     Daube\n",
        "\n",
        "[3 rows x 2 columns]"
       ]
      }
     ],
     "prompt_number": 127
    },
    {
     "cell_type": "code",
     "collapsed": false,
     "input": [
      "df.iloc[0,1] = 'Abraham'\n",
      "df"
     ],
     "language": "python",
     "metadata": {
      "slideshow": {
       "slide_type": "fragment"
      }
     },
     "outputs": [
      {
       "html": [
        "<div style=\"max-height:1000px;max-width:1500px;overflow:auto;\">\n",
        "<table border=\"1\" class=\"dataframe\">\n",
        "  <thead>\n",
        "    <tr style=\"text-align: right;\">\n",
        "      <th></th>\n",
        "      <th>age</th>\n",
        "      <th>firstname</th>\n",
        "    </tr>\n",
        "  </thead>\n",
        "  <tbody>\n",
        "    <tr>\n",
        "      <th>R1</th>\n",
        "      <td> 100</td>\n",
        "      <td> Abraham</td>\n",
        "    </tr>\n",
        "    <tr>\n",
        "      <th>R2</th>\n",
        "      <td>  20</td>\n",
        "      <td>    Babe</td>\n",
        "    </tr>\n",
        "    <tr>\n",
        "      <th>R3</th>\n",
        "      <td>  22</td>\n",
        "      <td>   Daube</td>\n",
        "    </tr>\n",
        "  </tbody>\n",
        "</table>\n",
        "<p>3 rows \u00d7 2 columns</p>\n",
        "</div>"
       ],
       "metadata": {},
       "output_type": "pyout",
       "prompt_number": 128,
       "text": [
        "    age firstname\n",
        "R1  100   Abraham\n",
        "R2   20      Babe\n",
        "R3   22     Daube\n",
        "\n",
        "[3 rows x 2 columns]"
       ]
      }
     ],
     "prompt_number": 128
    },
    {
     "cell_type": "markdown",
     "metadata": {
      "slideshow": {
       "slide_type": "slide"
      }
     },
     "source": [
      "`.loc` can actually do more:\n",
      "\n",
      "* Raises a `KeyError` exception when the label was not found.\n",
      "* Can take a list or array of labels, in either dimentions or both.\n",
      "* Can take a slice with labels, i.e. 'age':'firstname'. Notice that both start and the stop parts are *inclusive*!!!\n",
      "* Can take a boolean array."
     ]
    },
    {
     "cell_type": "code",
     "collapsed": false,
     "input": [
      "df.loc['R1', 'age']"
     ],
     "language": "python",
     "metadata": {},
     "outputs": [
      {
       "metadata": {},
       "output_type": "pyout",
       "prompt_number": 129,
       "text": [
        "100"
       ]
      }
     ],
     "prompt_number": 129
    },
    {
     "cell_type": "code",
     "collapsed": false,
     "input": [
      "df.loc[['R1', 'R3'], ['age', 'firstname']]"
     ],
     "language": "python",
     "metadata": {
      "slideshow": {
       "slide_type": "fragment"
      }
     },
     "outputs": [
      {
       "html": [
        "<div style=\"max-height:1000px;max-width:1500px;overflow:auto;\">\n",
        "<table border=\"1\" class=\"dataframe\">\n",
        "  <thead>\n",
        "    <tr style=\"text-align: right;\">\n",
        "      <th></th>\n",
        "      <th>age</th>\n",
        "      <th>firstname</th>\n",
        "    </tr>\n",
        "  </thead>\n",
        "  <tbody>\n",
        "    <tr>\n",
        "      <th>R1</th>\n",
        "      <td> 100</td>\n",
        "      <td> Abraham</td>\n",
        "    </tr>\n",
        "    <tr>\n",
        "      <th>R3</th>\n",
        "      <td>  22</td>\n",
        "      <td>   Daube</td>\n",
        "    </tr>\n",
        "  </tbody>\n",
        "</table>\n",
        "<p>2 rows \u00d7 2 columns</p>\n",
        "</div>"
       ],
       "metadata": {},
       "output_type": "pyout",
       "prompt_number": 130,
       "text": [
        "    age firstname\n",
        "R1  100   Abraham\n",
        "R3   22     Daube\n",
        "\n",
        "[2 rows x 2 columns]"
       ]
      }
     ],
     "prompt_number": 130
    },
    {
     "cell_type": "markdown",
     "metadata": {
      "slideshow": {
       "slide_type": "slide"
      }
     },
     "source": [
      "Remember the *stop* part of a label slice is *inclusive*. That is, 'R2' row is *included* below."
     ]
    },
    {
     "cell_type": "code",
     "collapsed": false,
     "input": [
      "df.loc['R1':'R2', 'age':'age']"
     ],
     "language": "python",
     "metadata": {},
     "outputs": [
      {
       "html": [
        "<div style=\"max-height:1000px;max-width:1500px;overflow:auto;\">\n",
        "<table border=\"1\" class=\"dataframe\">\n",
        "  <thead>\n",
        "    <tr style=\"text-align: right;\">\n",
        "      <th></th>\n",
        "      <th>age</th>\n",
        "    </tr>\n",
        "  </thead>\n",
        "  <tbody>\n",
        "    <tr>\n",
        "      <th>R1</th>\n",
        "      <td> 100</td>\n",
        "    </tr>\n",
        "    <tr>\n",
        "      <th>R2</th>\n",
        "      <td>  20</td>\n",
        "    </tr>\n",
        "  </tbody>\n",
        "</table>\n",
        "<p>2 rows \u00d7 1 columns</p>\n",
        "</div>"
       ],
       "metadata": {},
       "output_type": "pyout",
       "prompt_number": 131,
       "text": [
        "    age\n",
        "R1  100\n",
        "R2   20\n",
        "\n",
        "[2 rows x 1 columns]"
       ]
      }
     ],
     "prompt_number": 131
    },
    {
     "cell_type": "markdown",
     "metadata": {
      "slideshow": {
       "slide_type": "slide"
      }
     },
     "source": [
      "`.iloc` is also powerful:\n",
      "    \n",
      "* Raises an `IndexError` exception when the integer position is out of bounds (0 to length -1).\n",
      "* Can take an integer list or array.\n",
      "* Can take a slice.\n",
      "\n"
     ]
    },
    {
     "cell_type": "markdown",
     "metadata": {
      "slideshow": {
       "slide_type": "slide"
      }
     },
     "source": [
      "Let's see the `df` again."
     ]
    },
    {
     "cell_type": "code",
     "collapsed": false,
     "input": [
      "df"
     ],
     "language": "python",
     "metadata": {},
     "outputs": [
      {
       "html": [
        "<div style=\"max-height:1000px;max-width:1500px;overflow:auto;\">\n",
        "<table border=\"1\" class=\"dataframe\">\n",
        "  <thead>\n",
        "    <tr style=\"text-align: right;\">\n",
        "      <th></th>\n",
        "      <th>age</th>\n",
        "      <th>firstname</th>\n",
        "    </tr>\n",
        "  </thead>\n",
        "  <tbody>\n",
        "    <tr>\n",
        "      <th>R1</th>\n",
        "      <td> 100</td>\n",
        "      <td> Abraham</td>\n",
        "    </tr>\n",
        "    <tr>\n",
        "      <th>R2</th>\n",
        "      <td>  20</td>\n",
        "      <td>    Babe</td>\n",
        "    </tr>\n",
        "    <tr>\n",
        "      <th>R3</th>\n",
        "      <td>  22</td>\n",
        "      <td>   Daube</td>\n",
        "    </tr>\n",
        "  </tbody>\n",
        "</table>\n",
        "<p>3 rows \u00d7 2 columns</p>\n",
        "</div>"
       ],
       "metadata": {},
       "output_type": "pyout",
       "prompt_number": 132,
       "text": [
        "    age firstname\n",
        "R1  100   Abraham\n",
        "R2   20      Babe\n",
        "R3   22     Daube\n",
        "\n",
        "[3 rows x 2 columns]"
       ]
      }
     ],
     "prompt_number": 132
    },
    {
     "cell_type": "code",
     "collapsed": false,
     "input": [
      "df.iloc[0, 1]"
     ],
     "language": "python",
     "metadata": {
      "slideshow": {
       "slide_type": "fragment"
      }
     },
     "outputs": [
      {
       "metadata": {},
       "output_type": "pyout",
       "prompt_number": 133,
       "text": [
        "'Abraham'"
       ]
      }
     ],
     "prompt_number": 133
    },
    {
     "cell_type": "code",
     "collapsed": false,
     "input": [
      "df.iloc[[0, 2], [0]]"
     ],
     "language": "python",
     "metadata": {
      "slideshow": {
       "slide_type": "fragment"
      }
     },
     "outputs": [
      {
       "html": [
        "<div style=\"max-height:1000px;max-width:1500px;overflow:auto;\">\n",
        "<table border=\"1\" class=\"dataframe\">\n",
        "  <thead>\n",
        "    <tr style=\"text-align: right;\">\n",
        "      <th></th>\n",
        "      <th>age</th>\n",
        "    </tr>\n",
        "  </thead>\n",
        "  <tbody>\n",
        "    <tr>\n",
        "      <th>R1</th>\n",
        "      <td> 100</td>\n",
        "    </tr>\n",
        "    <tr>\n",
        "      <th>R3</th>\n",
        "      <td>  22</td>\n",
        "    </tr>\n",
        "  </tbody>\n",
        "</table>\n",
        "<p>2 rows \u00d7 1 columns</p>\n",
        "</div>"
       ],
       "metadata": {},
       "output_type": "pyout",
       "prompt_number": 134,
       "text": [
        "    age\n",
        "R1  100\n",
        "R3   22\n",
        "\n",
        "[2 rows x 1 columns]"
       ]
      }
     ],
     "prompt_number": 134
    },
    {
     "cell_type": "heading",
     "level": 2,
     "metadata": {
      "slideshow": {
       "slide_type": "slide"
      }
     },
     "source": [
      "Quiz"
     ]
    },
    {
     "cell_type": "markdown",
     "metadata": {},
     "source": [
      "How many rows below returns? Assume that the DataFrame df has more than three rows."
     ]
    },
    {
     "cell_type": "code",
     "collapsed": false,
     "input": [
      "df.iloc[0:2, :]"
     ],
     "language": "python",
     "metadata": {},
     "outputs": [
      {
       "html": [
        "<div style=\"max-height:1000px;max-width:1500px;overflow:auto;\">\n",
        "<table border=\"1\" class=\"dataframe\">\n",
        "  <thead>\n",
        "    <tr style=\"text-align: right;\">\n",
        "      <th></th>\n",
        "      <th>age</th>\n",
        "      <th>firstname</th>\n",
        "    </tr>\n",
        "  </thead>\n",
        "  <tbody>\n",
        "    <tr>\n",
        "      <th>R1</th>\n",
        "      <td> 100</td>\n",
        "      <td> Abraham</td>\n",
        "    </tr>\n",
        "    <tr>\n",
        "      <th>R2</th>\n",
        "      <td>  20</td>\n",
        "      <td>    Babe</td>\n",
        "    </tr>\n",
        "  </tbody>\n",
        "</table>\n",
        "<p>2 rows \u00d7 2 columns</p>\n",
        "</div>"
       ],
       "metadata": {},
       "output_type": "pyout",
       "prompt_number": 135,
       "text": [
        "    age firstname\n",
        "R1  100   Abraham\n",
        "R2   20      Babe\n",
        "\n",
        "[2 rows x 2 columns]"
       ]
      }
     ],
     "prompt_number": 135
    },
    {
     "cell_type": "markdown",
     "metadata": {
      "slideshow": {
       "slide_type": "slide"
      }
     },
     "source": [
      "Specifying the key using `.loc` and `.iloc` is the best practice. For the sake of convenience, however, a simple bracketed syntax is often used."
     ]
    },
    {
     "cell_type": "markdown",
     "metadata": {},
     "source": [
      "* A simple bracketed slice gets/sets the rows."
     ]
    },
    {
     "cell_type": "code",
     "collapsed": false,
     "input": [
      "df2 = df[:2]\n",
      "df2"
     ],
     "language": "python",
     "metadata": {},
     "outputs": [
      {
       "html": [
        "<div style=\"max-height:1000px;max-width:1500px;overflow:auto;\">\n",
        "<table border=\"1\" class=\"dataframe\">\n",
        "  <thead>\n",
        "    <tr style=\"text-align: right;\">\n",
        "      <th></th>\n",
        "      <th>age</th>\n",
        "      <th>firstname</th>\n",
        "    </tr>\n",
        "  </thead>\n",
        "  <tbody>\n",
        "    <tr>\n",
        "      <th>R1</th>\n",
        "      <td> 100</td>\n",
        "      <td> Abraham</td>\n",
        "    </tr>\n",
        "    <tr>\n",
        "      <th>R2</th>\n",
        "      <td>  20</td>\n",
        "      <td>    Babe</td>\n",
        "    </tr>\n",
        "  </tbody>\n",
        "</table>\n",
        "<p>2 rows \u00d7 2 columns</p>\n",
        "</div>"
       ],
       "metadata": {},
       "output_type": "pyout",
       "prompt_number": 136,
       "text": [
        "    age firstname\n",
        "R1  100   Abraham\n",
        "R2   20      Babe\n",
        "\n",
        "[2 rows x 2 columns]"
       ]
      }
     ],
     "prompt_number": 136
    },
    {
     "cell_type": "markdown",
     "metadata": {},
     "source": [
      "* A simple bracketed column name (or list of names), gets/sets the columns."
     ]
    },
    {
     "cell_type": "code",
     "collapsed": false,
     "input": [
      "df2 = df[['firstname', 'age']] # col order changed\n",
      "df2"
     ],
     "language": "python",
     "metadata": {},
     "outputs": [
      {
       "html": [
        "<div style=\"max-height:1000px;max-width:1500px;overflow:auto;\">\n",
        "<table border=\"1\" class=\"dataframe\">\n",
        "  <thead>\n",
        "    <tr style=\"text-align: right;\">\n",
        "      <th></th>\n",
        "      <th>firstname</th>\n",
        "      <th>age</th>\n",
        "    </tr>\n",
        "  </thead>\n",
        "  <tbody>\n",
        "    <tr>\n",
        "      <th>R1</th>\n",
        "      <td> Abraham</td>\n",
        "      <td> 100</td>\n",
        "    </tr>\n",
        "    <tr>\n",
        "      <th>R2</th>\n",
        "      <td>    Babe</td>\n",
        "      <td>  20</td>\n",
        "    </tr>\n",
        "    <tr>\n",
        "      <th>R3</th>\n",
        "      <td>   Daube</td>\n",
        "      <td>  22</td>\n",
        "    </tr>\n",
        "  </tbody>\n",
        "</table>\n",
        "<p>3 rows \u00d7 2 columns</p>\n",
        "</div>"
       ],
       "metadata": {},
       "output_type": "pyout",
       "prompt_number": 137,
       "text": [
        "   firstname  age\n",
        "R1   Abraham  100\n",
        "R2      Babe   20\n",
        "R3     Daube   22\n",
        "\n",
        "[3 rows x 2 columns]"
       ]
      }
     ],
     "prompt_number": 137
    },
    {
     "cell_type": "markdown",
     "metadata": {
      "slideshow": {
       "slide_type": "slide"
      }
     },
     "source": [
      "Here is an Python-like idiom of swapping columns in a DataFrame. In this case, it is rather silly. :-)"
     ]
    },
    {
     "cell_type": "code",
     "collapsed": false,
     "input": [
      "df[['firstname', 'age']] = df[['age', 'firstname']]\n",
      "df"
     ],
     "language": "python",
     "metadata": {},
     "outputs": [
      {
       "html": [
        "<div style=\"max-height:1000px;max-width:1500px;overflow:auto;\">\n",
        "<table border=\"1\" class=\"dataframe\">\n",
        "  <thead>\n",
        "    <tr style=\"text-align: right;\">\n",
        "      <th></th>\n",
        "      <th>age</th>\n",
        "      <th>firstname</th>\n",
        "    </tr>\n",
        "  </thead>\n",
        "  <tbody>\n",
        "    <tr>\n",
        "      <th>R1</th>\n",
        "      <td> Abraham</td>\n",
        "      <td> 100</td>\n",
        "    </tr>\n",
        "    <tr>\n",
        "      <th>R2</th>\n",
        "      <td>    Babe</td>\n",
        "      <td>  20</td>\n",
        "    </tr>\n",
        "    <tr>\n",
        "      <th>R3</th>\n",
        "      <td>   Daube</td>\n",
        "      <td>  22</td>\n",
        "    </tr>\n",
        "  </tbody>\n",
        "</table>\n",
        "<p>3 rows \u00d7 2 columns</p>\n",
        "</div>"
       ],
       "metadata": {},
       "output_type": "pyout",
       "prompt_number": 138,
       "text": [
        "        age  firstname\n",
        "R1  Abraham        100\n",
        "R2     Babe         20\n",
        "R3    Daube         22\n",
        "\n",
        "[3 rows x 2 columns]"
       ]
      }
     ],
     "prompt_number": 138
    },
    {
     "cell_type": "heading",
     "level": 2,
     "metadata": {
      "slideshow": {
       "slide_type": "slide"
      }
     },
     "source": [
      "Quiz"
     ]
    },
    {
     "cell_type": "markdown",
     "metadata": {},
     "source": [
      "Given a DataFrame df1, create another, df2, which looks like df3."
     ]
    },
    {
     "cell_type": "code",
     "collapsed": false,
     "input": [
      "rows = range(3)\n",
      "cols = list('ABCDE')\n",
      "df1 = pd.DataFrame(np.arange(15).reshape(3,5), index=rows, columns=cols)\n",
      "df1"
     ],
     "language": "python",
     "metadata": {},
     "outputs": [
      {
       "html": [
        "<div style=\"max-height:1000px;max-width:1500px;overflow:auto;\">\n",
        "<table border=\"1\" class=\"dataframe\">\n",
        "  <thead>\n",
        "    <tr style=\"text-align: right;\">\n",
        "      <th></th>\n",
        "      <th>A</th>\n",
        "      <th>B</th>\n",
        "      <th>C</th>\n",
        "      <th>D</th>\n",
        "      <th>E</th>\n",
        "    </tr>\n",
        "  </thead>\n",
        "  <tbody>\n",
        "    <tr>\n",
        "      <th>0</th>\n",
        "      <td>  0</td>\n",
        "      <td>  1</td>\n",
        "      <td>  2</td>\n",
        "      <td>  3</td>\n",
        "      <td>  4</td>\n",
        "    </tr>\n",
        "    <tr>\n",
        "      <th>1</th>\n",
        "      <td>  5</td>\n",
        "      <td>  6</td>\n",
        "      <td>  7</td>\n",
        "      <td>  8</td>\n",
        "      <td>  9</td>\n",
        "    </tr>\n",
        "    <tr>\n",
        "      <th>2</th>\n",
        "      <td> 10</td>\n",
        "      <td> 11</td>\n",
        "      <td> 12</td>\n",
        "      <td> 13</td>\n",
        "      <td> 14</td>\n",
        "    </tr>\n",
        "  </tbody>\n",
        "</table>\n",
        "<p>3 rows \u00d7 5 columns</p>\n",
        "</div>"
       ],
       "metadata": {},
       "output_type": "pyout",
       "prompt_number": 139,
       "text": [
        "    A   B   C   D   E\n",
        "0   0   1   2   3   4\n",
        "1   5   6   7   8   9\n",
        "2  10  11  12  13  14\n",
        "\n",
        "[3 rows x 5 columns]"
       ]
      }
     ],
     "prompt_number": 139
    },
    {
     "cell_type": "code",
     "collapsed": false,
     "input": [
      "df3 = pd.DataFrame([\n",
      "    ( 0,  1,  -2, 23),\n",
      "    (10, 11, -12, 45),\n",
      "], index=[0,2], columns=list('ABCF'))\n",
      "df3"
     ],
     "language": "python",
     "metadata": {},
     "outputs": [
      {
       "html": [
        "<div style=\"max-height:1000px;max-width:1500px;overflow:auto;\">\n",
        "<table border=\"1\" class=\"dataframe\">\n",
        "  <thead>\n",
        "    <tr style=\"text-align: right;\">\n",
        "      <th></th>\n",
        "      <th>A</th>\n",
        "      <th>B</th>\n",
        "      <th>C</th>\n",
        "      <th>F</th>\n",
        "    </tr>\n",
        "  </thead>\n",
        "  <tbody>\n",
        "    <tr>\n",
        "      <th>0</th>\n",
        "      <td>  0</td>\n",
        "      <td>  1</td>\n",
        "      <td> -2</td>\n",
        "      <td> 23</td>\n",
        "    </tr>\n",
        "    <tr>\n",
        "      <th>2</th>\n",
        "      <td> 10</td>\n",
        "      <td> 11</td>\n",
        "      <td>-12</td>\n",
        "      <td> 45</td>\n",
        "    </tr>\n",
        "  </tbody>\n",
        "</table>\n",
        "<p>2 rows \u00d7 4 columns</p>\n",
        "</div>"
       ],
       "metadata": {},
       "output_type": "pyout",
       "prompt_number": 140,
       "text": [
        "    A   B   C   F\n",
        "0   0   1  -2  23\n",
        "2  10  11 -12  45\n",
        "\n",
        "[2 rows x 4 columns]"
       ]
      }
     ],
     "prompt_number": 140
    },
    {
     "cell_type": "markdown",
     "metadata": {
      "slideshow": {
       "slide_type": "slide"
      }
     },
     "source": [
      "An answer:"
     ]
    },
    {
     "cell_type": "code",
     "collapsed": false,
     "input": [
      "df2 = df1.loc[0:2:2, 'A':'C']\n",
      "df2['C'] *= -1\n",
      "df2['F'] = [23, 45]\n",
      "all(df2 == df3)"
     ],
     "language": "python",
     "metadata": {},
     "outputs": [
      {
       "metadata": {},
       "output_type": "pyout",
       "prompt_number": 141,
       "text": [
        "True"
       ]
      }
     ],
     "prompt_number": 141
    },
    {
     "cell_type": "heading",
     "level": 2,
     "metadata": {
      "slideshow": {
       "slide_type": "slide"
      }
     },
     "source": [
      "Missing Data"
     ]
    },
    {
     "cell_type": "markdown",
     "metadata": {},
     "source": [
      "* Recall that `None` is a Python universal object. It is a placeholder and often evaluated as False, but it compares itself True."
     ]
    },
    {
     "cell_type": "code",
     "collapsed": false,
     "input": [
      "None, type(None), None == None"
     ],
     "language": "python",
     "metadata": {},
     "outputs": [
      {
       "metadata": {},
       "output_type": "pyout",
       "prompt_number": 142,
       "text": [
        "(None, NoneType, True)"
       ]
      }
     ],
     "prompt_number": 142
    },
    {
     "cell_type": "markdown",
     "metadata": {
      "slideshow": {
       "slide_type": "slide"
      }
     },
     "source": [
      "* `np.nan` is also a placeholder. It is of a float type, representing 'Not a Number', something like log(-1). It *always* compares `False`, including being compared to itself, of which is the defining characteristic. Use `np.isnan()` to identify a value is np.nan."
     ]
    },
    {
     "cell_type": "code",
     "collapsed": false,
     "input": [
      "np.log(-1), type(np.nan)"
     ],
     "language": "python",
     "metadata": {
      "slideshow": {
       "slide_type": "-"
      }
     },
     "outputs": [
      {
       "metadata": {},
       "output_type": "pyout",
       "prompt_number": 143,
       "text": [
        "(nan, float)"
       ]
      }
     ],
     "prompt_number": 143
    },
    {
     "cell_type": "code",
     "collapsed": false,
     "input": [
      "np.nan < 1.0, np.nan >= 1.0, np.nan == np.nan"
     ],
     "language": "python",
     "metadata": {
      "slideshow": {
       "slide_type": "fragment"
      }
     },
     "outputs": [
      {
       "metadata": {},
       "output_type": "pyout",
       "prompt_number": 144,
       "text": [
        "(False, False, False)"
       ]
      }
     ],
     "prompt_number": 144
    },
    {
     "cell_type": "code",
     "collapsed": false,
     "input": [
      "np.nan != np.nan, np.isnan(np.nan)"
     ],
     "language": "python",
     "metadata": {
      "slideshow": {
       "slide_type": "fragment"
      }
     },
     "outputs": [
      {
       "metadata": {},
       "output_type": "pyout",
       "prompt_number": 145,
       "text": [
        "(True, True)"
       ]
      }
     ],
     "prompt_number": 145
    },
    {
     "cell_type": "markdown",
     "metadata": {
      "slideshow": {
       "slide_type": "slide"
      }
     },
     "source": [
      "* pandas uses `np.nan` (and `None`) to represent missing data. They are, by default, *excluded* from calculations."
     ]
    },
    {
     "cell_type": "markdown",
     "metadata": {
      "slideshow": {
       "slide_type": "-"
      }
     },
     "source": [
      "pandas automatically promotes int `dtype` to a float, when there is an np.nan within a Series. Similarly, boolean `dtype` is cast to object. Here is an example of the former."
     ]
    },
    {
     "cell_type": "code",
     "collapsed": false,
     "input": [
      "left = pd.DataFrame({'a': [23, 13, 25, 42]}, index=range(4))\n",
      "right = pd.DataFrame({'b': [11, 11, 11]}, index=[0, 2, 3])\n",
      "\n",
      "together = pd.merge(left, right, how='left', left_index=True, right_index=True)\n",
      "\n",
      "print together\n",
      "print together.dtypes"
     ],
     "language": "python",
     "metadata": {},
     "outputs": [
      {
       "output_type": "stream",
       "stream": "stdout",
       "text": [
        "    a   b\n",
        "0  23  11\n",
        "1  13 NaN\n",
        "2  25  11\n",
        "3  42  11\n",
        "\n",
        "[4 rows x 2 columns]\n",
        "a      int64\n",
        "b    float64\n",
        "dtype: object\n"
       ]
      }
     ],
     "prompt_number": 146
    },
    {
     "cell_type": "markdown",
     "metadata": {
      "slideshow": {
       "slide_type": "slide"
      }
     },
     "source": [
      "* pandas provide `isnull()` and `notnull()` functions to identify missing values. They return booleans. "
     ]
    },
    {
     "cell_type": "code",
     "collapsed": false,
     "input": [
      "df = pd.DataFrame(np.log(-np.eye(3)))\n",
      "df"
     ],
     "language": "python",
     "metadata": {},
     "outputs": [
      {
       "html": [
        "<div style=\"max-height:1000px;max-width:1500px;overflow:auto;\">\n",
        "<table border=\"1\" class=\"dataframe\">\n",
        "  <thead>\n",
        "    <tr style=\"text-align: right;\">\n",
        "      <th></th>\n",
        "      <th>0</th>\n",
        "      <th>1</th>\n",
        "      <th>2</th>\n",
        "    </tr>\n",
        "  </thead>\n",
        "  <tbody>\n",
        "    <tr>\n",
        "      <th>0</th>\n",
        "      <td> NaN</td>\n",
        "      <td>-inf</td>\n",
        "      <td>-inf</td>\n",
        "    </tr>\n",
        "    <tr>\n",
        "      <th>1</th>\n",
        "      <td>-inf</td>\n",
        "      <td> NaN</td>\n",
        "      <td>-inf</td>\n",
        "    </tr>\n",
        "    <tr>\n",
        "      <th>2</th>\n",
        "      <td>-inf</td>\n",
        "      <td>-inf</td>\n",
        "      <td> NaN</td>\n",
        "    </tr>\n",
        "  </tbody>\n",
        "</table>\n",
        "<p>3 rows \u00d7 3 columns</p>\n",
        "</div>"
       ],
       "metadata": {},
       "output_type": "pyout",
       "prompt_number": 147,
       "text": [
        "     0    1    2\n",
        "0  NaN -inf -inf\n",
        "1 -inf  NaN -inf\n",
        "2 -inf -inf  NaN\n",
        "\n",
        "[3 rows x 3 columns]"
       ]
      }
     ],
     "prompt_number": 147
    },
    {
     "cell_type": "code",
     "collapsed": false,
     "input": [
      "pd.isnull(df)"
     ],
     "language": "python",
     "metadata": {
      "slideshow": {
       "slide_type": "fragment"
      }
     },
     "outputs": [
      {
       "html": [
        "<div style=\"max-height:1000px;max-width:1500px;overflow:auto;\">\n",
        "<table border=\"1\" class=\"dataframe\">\n",
        "  <thead>\n",
        "    <tr style=\"text-align: right;\">\n",
        "      <th></th>\n",
        "      <th>0</th>\n",
        "      <th>1</th>\n",
        "      <th>2</th>\n",
        "    </tr>\n",
        "  </thead>\n",
        "  <tbody>\n",
        "    <tr>\n",
        "      <th>0</th>\n",
        "      <td>  True</td>\n",
        "      <td> False</td>\n",
        "      <td> False</td>\n",
        "    </tr>\n",
        "    <tr>\n",
        "      <th>1</th>\n",
        "      <td> False</td>\n",
        "      <td>  True</td>\n",
        "      <td> False</td>\n",
        "    </tr>\n",
        "    <tr>\n",
        "      <th>2</th>\n",
        "      <td> False</td>\n",
        "      <td> False</td>\n",
        "      <td>  True</td>\n",
        "    </tr>\n",
        "  </tbody>\n",
        "</table>\n",
        "<p>3 rows \u00d7 3 columns</p>\n",
        "</div>"
       ],
       "metadata": {},
       "output_type": "pyout",
       "prompt_number": 148,
       "text": [
        "       0      1      2\n",
        "0   True  False  False\n",
        "1  False   True  False\n",
        "2  False  False   True\n",
        "\n",
        "[3 rows x 3 columns]"
       ]
      }
     ],
     "prompt_number": 148
    },
    {
     "cell_type": "code",
     "collapsed": false,
     "input": [
      "pd.notnull(df)"
     ],
     "language": "python",
     "metadata": {
      "slideshow": {
       "slide_type": "fragment"
      }
     },
     "outputs": [
      {
       "html": [
        "<div style=\"max-height:1000px;max-width:1500px;overflow:auto;\">\n",
        "<table border=\"1\" class=\"dataframe\">\n",
        "  <thead>\n",
        "    <tr style=\"text-align: right;\">\n",
        "      <th></th>\n",
        "      <th>0</th>\n",
        "      <th>1</th>\n",
        "      <th>2</th>\n",
        "    </tr>\n",
        "  </thead>\n",
        "  <tbody>\n",
        "    <tr>\n",
        "      <th>0</th>\n",
        "      <td> False</td>\n",
        "      <td>  True</td>\n",
        "      <td>  True</td>\n",
        "    </tr>\n",
        "    <tr>\n",
        "      <th>1</th>\n",
        "      <td>  True</td>\n",
        "      <td> False</td>\n",
        "      <td>  True</td>\n",
        "    </tr>\n",
        "    <tr>\n",
        "      <th>2</th>\n",
        "      <td>  True</td>\n",
        "      <td>  True</td>\n",
        "      <td> False</td>\n",
        "    </tr>\n",
        "  </tbody>\n",
        "</table>\n",
        "<p>3 rows \u00d7 3 columns</p>\n",
        "</div>"
       ],
       "metadata": {},
       "output_type": "pyout",
       "prompt_number": 149,
       "text": [
        "       0      1      2\n",
        "0  False   True   True\n",
        "1   True  False   True\n",
        "2   True   True  False\n",
        "\n",
        "[3 rows x 3 columns]"
       ]
      }
     ],
     "prompt_number": 149
    },
    {
     "cell_type": "markdown",
     "metadata": {
      "slideshow": {
       "slide_type": "slide"
      }
     },
     "source": [
      "* `dropna()`, removes either columns (axis=1) or rows (axis=0) with *any* missing values. "
     ]
    },
    {
     "cell_type": "code",
     "collapsed": false,
     "input": [
      "df.iloc[1,1] = 23\n",
      "df"
     ],
     "language": "python",
     "metadata": {},
     "outputs": [
      {
       "html": [
        "<div style=\"max-height:1000px;max-width:1500px;overflow:auto;\">\n",
        "<table border=\"1\" class=\"dataframe\">\n",
        "  <thead>\n",
        "    <tr style=\"text-align: right;\">\n",
        "      <th></th>\n",
        "      <th>0</th>\n",
        "      <th>1</th>\n",
        "      <th>2</th>\n",
        "    </tr>\n",
        "  </thead>\n",
        "  <tbody>\n",
        "    <tr>\n",
        "      <th>0</th>\n",
        "      <td> NaN</td>\n",
        "      <td>      -inf</td>\n",
        "      <td>-inf</td>\n",
        "    </tr>\n",
        "    <tr>\n",
        "      <th>1</th>\n",
        "      <td>-inf</td>\n",
        "      <td> 23.000000</td>\n",
        "      <td>-inf</td>\n",
        "    </tr>\n",
        "    <tr>\n",
        "      <th>2</th>\n",
        "      <td>-inf</td>\n",
        "      <td>      -inf</td>\n",
        "      <td> NaN</td>\n",
        "    </tr>\n",
        "  </tbody>\n",
        "</table>\n",
        "<p>3 rows \u00d7 3 columns</p>\n",
        "</div>"
       ],
       "metadata": {},
       "output_type": "pyout",
       "prompt_number": 150,
       "text": [
        "     0          1    2\n",
        "0  NaN       -inf -inf\n",
        "1 -inf  23.000000 -inf\n",
        "2 -inf       -inf  NaN\n",
        "\n",
        "[3 rows x 3 columns]"
       ]
      }
     ],
     "prompt_number": 150
    },
    {
     "cell_type": "code",
     "collapsed": false,
     "input": [
      "dropped = df.dropna(axis=0)\n",
      "dropped"
     ],
     "language": "python",
     "metadata": {
      "slideshow": {
       "slide_type": "fragment"
      }
     },
     "outputs": [
      {
       "html": [
        "<div style=\"max-height:1000px;max-width:1500px;overflow:auto;\">\n",
        "<table border=\"1\" class=\"dataframe\">\n",
        "  <thead>\n",
        "    <tr style=\"text-align: right;\">\n",
        "      <th></th>\n",
        "      <th>0</th>\n",
        "      <th>1</th>\n",
        "      <th>2</th>\n",
        "    </tr>\n",
        "  </thead>\n",
        "  <tbody>\n",
        "    <tr>\n",
        "      <th>1</th>\n",
        "      <td>-inf</td>\n",
        "      <td> 23</td>\n",
        "      <td>-inf</td>\n",
        "    </tr>\n",
        "  </tbody>\n",
        "</table>\n",
        "<p>1 rows \u00d7 3 columns</p>\n",
        "</div>"
       ],
       "metadata": {},
       "output_type": "pyout",
       "prompt_number": 151,
       "text": [
        "     0   1    2\n",
        "1 -inf  23 -inf\n",
        "\n",
        "[1 rows x 3 columns]"
       ]
      }
     ],
     "prompt_number": 151
    },
    {
     "cell_type": "markdown",
     "metadata": {
      "slideshow": {
       "slide_type": "slide"
      }
     },
     "source": [
      "* When filling the missing values, `fillna()` and `interpolate()` come in handy."
     ]
    },
    {
     "cell_type": "code",
     "collapsed": false,
     "input": [
      "df = pd.DataFrame(np.arange(18.).reshape(6, 3), columns=list('abc'))\n",
      "df.iloc[2:4, [0, 2]] = np.nan\n",
      "df.iloc[1, 1] = np.nan\n",
      "df"
     ],
     "language": "python",
     "metadata": {},
     "outputs": [
      {
       "html": [
        "<div style=\"max-height:1000px;max-width:1500px;overflow:auto;\">\n",
        "<table border=\"1\" class=\"dataframe\">\n",
        "  <thead>\n",
        "    <tr style=\"text-align: right;\">\n",
        "      <th></th>\n",
        "      <th>a</th>\n",
        "      <th>b</th>\n",
        "      <th>c</th>\n",
        "    </tr>\n",
        "  </thead>\n",
        "  <tbody>\n",
        "    <tr>\n",
        "      <th>0</th>\n",
        "      <td>  0</td>\n",
        "      <td>  1</td>\n",
        "      <td>  2</td>\n",
        "    </tr>\n",
        "    <tr>\n",
        "      <th>1</th>\n",
        "      <td>  3</td>\n",
        "      <td>NaN</td>\n",
        "      <td>  5</td>\n",
        "    </tr>\n",
        "    <tr>\n",
        "      <th>2</th>\n",
        "      <td>NaN</td>\n",
        "      <td>  7</td>\n",
        "      <td>NaN</td>\n",
        "    </tr>\n",
        "    <tr>\n",
        "      <th>3</th>\n",
        "      <td>NaN</td>\n",
        "      <td> 10</td>\n",
        "      <td>NaN</td>\n",
        "    </tr>\n",
        "    <tr>\n",
        "      <th>4</th>\n",
        "      <td> 12</td>\n",
        "      <td> 13</td>\n",
        "      <td> 14</td>\n",
        "    </tr>\n",
        "    <tr>\n",
        "      <th>5</th>\n",
        "      <td> 15</td>\n",
        "      <td> 16</td>\n",
        "      <td> 17</td>\n",
        "    </tr>\n",
        "  </tbody>\n",
        "</table>\n",
        "<p>6 rows \u00d7 3 columns</p>\n",
        "</div>"
       ],
       "metadata": {},
       "output_type": "pyout",
       "prompt_number": 152,
       "text": [
        "    a   b   c\n",
        "0   0   1   2\n",
        "1   3 NaN   5\n",
        "2 NaN   7 NaN\n",
        "3 NaN  10 NaN\n",
        "4  12  13  14\n",
        "5  15  16  17\n",
        "\n",
        "[6 rows x 3 columns]"
       ]
      }
     ],
     "prompt_number": 152
    },
    {
     "cell_type": "code",
     "collapsed": false,
     "input": [
      "df['a'] = df['a'].interpolate(method='polynomial', order=3)\n",
      "df['b'] = df['b'].fillna(999)\n",
      "df"
     ],
     "language": "python",
     "metadata": {
      "slideshow": {
       "slide_type": "slide"
      }
     },
     "outputs": [
      {
       "html": [
        "<div style=\"max-height:1000px;max-width:1500px;overflow:auto;\">\n",
        "<table border=\"1\" class=\"dataframe\">\n",
        "  <thead>\n",
        "    <tr style=\"text-align: right;\">\n",
        "      <th></th>\n",
        "      <th>a</th>\n",
        "      <th>b</th>\n",
        "      <th>c</th>\n",
        "    </tr>\n",
        "  </thead>\n",
        "  <tbody>\n",
        "    <tr>\n",
        "      <th>0</th>\n",
        "      <td>  0</td>\n",
        "      <td>   1</td>\n",
        "      <td>  2</td>\n",
        "    </tr>\n",
        "    <tr>\n",
        "      <th>1</th>\n",
        "      <td>  3</td>\n",
        "      <td> 999</td>\n",
        "      <td>  5</td>\n",
        "    </tr>\n",
        "    <tr>\n",
        "      <th>2</th>\n",
        "      <td>  6</td>\n",
        "      <td>   7</td>\n",
        "      <td>NaN</td>\n",
        "    </tr>\n",
        "    <tr>\n",
        "      <th>3</th>\n",
        "      <td>  9</td>\n",
        "      <td>  10</td>\n",
        "      <td>NaN</td>\n",
        "    </tr>\n",
        "    <tr>\n",
        "      <th>4</th>\n",
        "      <td> 12</td>\n",
        "      <td>  13</td>\n",
        "      <td> 14</td>\n",
        "    </tr>\n",
        "    <tr>\n",
        "      <th>5</th>\n",
        "      <td> 15</td>\n",
        "      <td>  16</td>\n",
        "      <td> 17</td>\n",
        "    </tr>\n",
        "  </tbody>\n",
        "</table>\n",
        "<p>6 rows \u00d7 3 columns</p>\n",
        "</div>"
       ],
       "metadata": {},
       "output_type": "pyout",
       "prompt_number": 153,
       "text": [
        "    a    b   c\n",
        "0   0    1   2\n",
        "1   3  999   5\n",
        "2   6    7 NaN\n",
        "3   9   10 NaN\n",
        "4  12   13  14\n",
        "5  15   16  17\n",
        "\n",
        "[6 rows x 3 columns]"
       ]
      }
     ],
     "prompt_number": 153
    },
    {
     "cell_type": "heading",
     "level": 2,
     "metadata": {
      "slideshow": {
       "slide_type": "slide"
      }
     },
     "source": [
      "Some Data Munging Tools: Append, Concat, Group By"
     ]
    },
    {
     "cell_type": "markdown",
     "metadata": {},
     "source": [
      "Let's download some World Bank's World Development Indicators.\n",
      "\n",
      "> This example is largely based on the \"World Bank\" section of *pandas 0.13.1 documentation* available [here](http://pandas.pydata.org/pandas-docs/stable/remote_data.html) but was expanded to demonstrate more methods and functions."
     ]
    },
    {
     "cell_type": "markdown",
     "metadata": {
      "slideshow": {
       "slide_type": "fragment"
      }
     },
     "source": [
      "First, we download a GDP per capita series and a fertility rate. The search method shows available series."
     ]
    },
    {
     "cell_type": "code",
     "collapsed": false,
     "input": [
      "from pandas.io import wb\n",
      "\n",
      "wb.search('fertility').iloc[:, :2]"
     ],
     "language": "python",
     "metadata": {
      "slideshow": {
       "slide_type": "fragment"
      }
     },
     "outputs": [
      {
       "html": [
        "<div style=\"max-height:1000px;max-width:1500px;overflow:auto;\">\n",
        "<table border=\"1\" class=\"dataframe\">\n",
        "  <thead>\n",
        "    <tr style=\"text-align: right;\">\n",
        "      <th></th>\n",
        "      <th>id</th>\n",
        "      <th>name</th>\n",
        "    </tr>\n",
        "  </thead>\n",
        "  <tbody>\n",
        "    <tr>\n",
        "      <th>5917</th>\n",
        "      <td>    SP.ADO.TFRT</td>\n",
        "      <td> Adolescent fertility rate (births per 1,000 wo...</td>\n",
        "    </tr>\n",
        "    <tr>\n",
        "      <th>5937</th>\n",
        "      <td> SP.DYN.TFRT.IN</td>\n",
        "      <td>          Fertility rate, total (births per woman)</td>\n",
        "    </tr>\n",
        "    <tr>\n",
        "      <th>5940</th>\n",
        "      <td>    SP.DYN.WFRT</td>\n",
        "      <td>          Wanted fertility rate (births per woman)</td>\n",
        "    </tr>\n",
        "  </tbody>\n",
        "</table>\n",
        "<p>3 rows \u00d7 2 columns</p>\n",
        "</div>"
       ],
       "metadata": {},
       "output_type": "pyout",
       "prompt_number": 154,
       "text": [
        "                  id                                               name\n",
        "5917     SP.ADO.TFRT  Adolescent fertility rate (births per 1,000 wo...\n",
        "5937  SP.DYN.TFRT.IN           Fertility rate, total (births per woman)\n",
        "5940     SP.DYN.WFRT           Wanted fertility rate (births per woman)\n",
        "\n",
        "[3 rows x 2 columns]"
       ]
      }
     ],
     "prompt_number": 154
    },
    {
     "cell_type": "markdown",
     "metadata": {
      "slideshow": {
       "slide_type": "slide"
      }
     },
     "source": [
      "Let's choose two series: one fore GDP per capita and another for Total Fertility Rate. We request all the available countries and some years."
     ]
    },
    {
     "cell_type": "code",
     "collapsed": false,
     "input": [
      "ind = ['NY.GDP.PCAP.KD', 'SP.DYN.TFRT.IN']\n",
      "df = wb.download(indicator=ind, country='all', start=1950, end=2014)"
     ],
     "language": "python",
     "metadata": {},
     "outputs": [],
     "prompt_number": 155
    },
    {
     "cell_type": "markdown",
     "metadata": {
      "slideshow": {
       "slide_type": "fragment"
      }
     },
     "source": [
      "Shorten the column labels. and let's see the dataframe. It has a MultiIndex (or hierarchical index)."
     ]
    },
    {
     "cell_type": "code",
     "collapsed": false,
     "input": [
      "df.columns = ['gdp', 'tfr']\n",
      "df.head()"
     ],
     "language": "python",
     "metadata": {
      "slideshow": {
       "slide_type": "fragment"
      }
     },
     "outputs": [
      {
       "html": [
        "<div style=\"max-height:1000px;max-width:1500px;overflow:auto;\">\n",
        "<table border=\"1\" class=\"dataframe\">\n",
        "  <thead>\n",
        "    <tr style=\"text-align: right;\">\n",
        "      <th></th>\n",
        "      <th></th>\n",
        "      <th>gdp</th>\n",
        "      <th>tfr</th>\n",
        "    </tr>\n",
        "    <tr>\n",
        "      <th>country</th>\n",
        "      <th>year</th>\n",
        "      <th></th>\n",
        "      <th></th>\n",
        "    </tr>\n",
        "  </thead>\n",
        "  <tbody>\n",
        "    <tr>\n",
        "      <th rowspan=\"5\" valign=\"top\">Arab World</th>\n",
        "      <th>2013</th>\n",
        "      <td>         NaN</td>\n",
        "      <td>      NaN</td>\n",
        "    </tr>\n",
        "    <tr>\n",
        "      <th>2012</th>\n",
        "      <td> 4621.266629</td>\n",
        "      <td> 3.233402</td>\n",
        "    </tr>\n",
        "    <tr>\n",
        "      <th>2011</th>\n",
        "      <td> 4519.897714</td>\n",
        "      <td> 3.266215</td>\n",
        "    </tr>\n",
        "    <tr>\n",
        "      <th>2010</th>\n",
        "      <td> 4367.718774</td>\n",
        "      <td> 3.297409</td>\n",
        "    </tr>\n",
        "    <tr>\n",
        "      <th>2009</th>\n",
        "      <td> 4236.984875</td>\n",
        "      <td> 3.325365</td>\n",
        "    </tr>\n",
        "  </tbody>\n",
        "</table>\n",
        "<p>5 rows \u00d7 2 columns</p>\n",
        "</div>"
       ],
       "metadata": {},
       "output_type": "pyout",
       "prompt_number": 156,
       "text": [
        "                         gdp       tfr\n",
        "country    year                       \n",
        "Arab World 2013          NaN       NaN\n",
        "           2012  4621.266629  3.233402\n",
        "           2011  4519.897714  3.266215\n",
        "           2010  4367.718774  3.297409\n",
        "           2009  4236.984875  3.325365\n",
        "\n",
        "[5 rows x 2 columns]"
       ]
      }
     ],
     "prompt_number": 156
    },
    {
     "cell_type": "markdown",
     "metadata": {
      "slideshow": {
       "slide_type": "slide"
      }
     },
     "source": [
      "Before we do anything, let's drop any rows that has missing values, and convert both columns to numbers."
     ]
    },
    {
     "cell_type": "code",
     "collapsed": false,
     "input": [
      "df = df.dropna()\n",
      "df = df.convert_objects(convert_numeric=True)\n",
      "df.to_pickle('df.pkl')\n",
      "df.dtypes"
     ],
     "language": "python",
     "metadata": {},
     "outputs": [
      {
       "metadata": {},
       "output_type": "pyout",
       "prompt_number": 157,
       "text": [
        "gdp    float64\n",
        "tfr    float64\n",
        "dtype: object"
       ]
      }
     ],
     "prompt_number": 157
    },
    {
     "cell_type": "markdown",
     "metadata": {
      "slideshow": {
       "slide_type": "slide"
      }
     },
     "source": [
      "How many records do we have? We can get summary data using `describe()` method."
     ]
    },
    {
     "cell_type": "code",
     "collapsed": false,
     "input": [
      "df.describe()"
     ],
     "language": "python",
     "metadata": {},
     "outputs": [
      {
       "html": [
        "<div style=\"max-height:1000px;max-width:1500px;overflow:auto;\">\n",
        "<table border=\"1\" class=\"dataframe\">\n",
        "  <thead>\n",
        "    <tr style=\"text-align: right;\">\n",
        "      <th></th>\n",
        "      <th>gdp</th>\n",
        "      <th>tfr</th>\n",
        "    </tr>\n",
        "  </thead>\n",
        "  <tbody>\n",
        "    <tr>\n",
        "      <th>count</th>\n",
        "      <td>   9132.000000</td>\n",
        "      <td> 9132.000000</td>\n",
        "    </tr>\n",
        "    <tr>\n",
        "      <th>mean</th>\n",
        "      <td>   7917.940221</td>\n",
        "      <td>    3.929455</td>\n",
        "    </tr>\n",
        "    <tr>\n",
        "      <th>std</th>\n",
        "      <td>  12389.688012</td>\n",
        "      <td>    1.962027</td>\n",
        "    </tr>\n",
        "    <tr>\n",
        "      <th>min</th>\n",
        "      <td>     50.042206</td>\n",
        "      <td>    0.836000</td>\n",
        "    </tr>\n",
        "    <tr>\n",
        "      <th>25%</th>\n",
        "      <td>    723.931595</td>\n",
        "      <td>    2.090000</td>\n",
        "    </tr>\n",
        "    <tr>\n",
        "      <th>50%</th>\n",
        "      <td>   2436.573682</td>\n",
        "      <td>    3.525500</td>\n",
        "    </tr>\n",
        "    <tr>\n",
        "      <th>75%</th>\n",
        "      <td>   9498.393125</td>\n",
        "      <td>    5.758250</td>\n",
        "    </tr>\n",
        "    <tr>\n",
        "      <th>max</th>\n",
        "      <td> 117493.640235</td>\n",
        "      <td>    8.667000</td>\n",
        "    </tr>\n",
        "  </tbody>\n",
        "</table>\n",
        "<p>8 rows \u00d7 2 columns</p>\n",
        "</div>"
       ],
       "metadata": {},
       "output_type": "pyout",
       "prompt_number": 158,
       "text": [
        "                 gdp          tfr\n",
        "count    9132.000000  9132.000000\n",
        "mean     7917.940221     3.929455\n",
        "std     12389.688012     1.962027\n",
        "min        50.042206     0.836000\n",
        "25%       723.931595     2.090000\n",
        "50%      2436.573682     3.525500\n",
        "75%      9498.393125     5.758250\n",
        "max    117493.640235     8.667000\n",
        "\n",
        "[8 rows x 2 columns]"
       ]
      }
     ],
     "prompt_number": 158
    },
    {
     "cell_type": "markdown",
     "metadata": {
      "slideshow": {
       "slide_type": "slide"
      }
     },
     "source": [
      "Let's now try some group by using the multiIndex we have. Let's aggregate our data at the country level by calculating a mean over years within each country. Amazinly, it is just one line."
     ]
    },
    {
     "cell_type": "code",
     "collapsed": false,
     "input": [
      "country = df.groupby(level=['country']).mean()\n",
      "print country.describe()"
     ],
     "language": "python",
     "metadata": {},
     "outputs": [
      {
       "output_type": "stream",
       "stream": "stdout",
       "text": [
        "                 gdp         tfr\n",
        "count     226.000000  226.000000\n",
        "mean     8536.483605    3.758308\n",
        "std     13785.155100    1.721368\n",
        "min       156.179889    1.223333\n",
        "25%       815.803895    2.136105\n",
        "50%      2703.505162    3.729304\n",
        "75%      9309.100281    5.078099\n",
        "max    108089.599455    7.585679\n",
        "\n",
        "[8 rows x 2 columns]\n"
       ]
      }
     ],
     "prompt_number": 159
    },
    {
     "cell_type": "markdown",
     "metadata": {
      "slideshow": {
       "slide_type": "fragment"
      }
     },
     "source": [
      "We save the country data file locally, only after we sort it by the gdp."
     ]
    },
    {
     "cell_type": "code",
     "collapsed": false,
     "input": [
      "country.sort(columns=['gdp'], axis=0, inplace=True)\n",
      "country.to_pickle('country.pkl')"
     ],
     "language": "python",
     "metadata": {
      "slideshow": {
       "slide_type": "fragment"
      }
     },
     "outputs": [],
     "prompt_number": 160
    },
    {
     "cell_type": "markdown",
     "metadata": {
      "slideshow": {
       "slide_type": "slide"
      }
     },
     "source": [
      "We can graph gdp and tfr together, "
     ]
    },
    {
     "cell_type": "code",
     "collapsed": false,
     "input": [
      "country = pd.read_pickle('country.pkl')\n",
      "country['log_gdp'] = np.log(country['gdp'])\n",
      "country = country.drop('gdp', axis=1)\n",
      "import matplotlib.pyplot as plt\n",
      "plt.scatter(country['tfr'], country['log_gdp'])"
     ],
     "language": "python",
     "metadata": {},
     "outputs": [
      {
       "metadata": {},
       "output_type": "pyout",
       "prompt_number": 161,
       "text": [
        "<matplotlib.collections.PathCollection at 0x10dab9890>"
       ]
      }
     ],
     "prompt_number": 161
    },
    {
     "cell_type": "markdown",
     "metadata": {
      "slideshow": {
       "slide_type": "slide"
      }
     },
     "source": [
      "Another way is to aggregate over countries, so that we end up with yearly data. Aggregation is simple using group by again."
     ]
    },
    {
     "cell_type": "code",
     "collapsed": false,
     "input": [
      "df = pd.read_pickle('df.pkl')\n",
      "year = df.groupby(level='year').mean()\n",
      "year['ln_gdp'] = np.log(year['gdp'])\n",
      "year = year.drop('gdp', axis=1)\n",
      "year.sort(columns=['ln_gdp'], axis=0, inplace=True)\n",
      "year.to_pickle('year.pkl')\n",
      "year.plot()"
     ],
     "language": "python",
     "metadata": {},
     "outputs": [
      {
       "metadata": {},
       "output_type": "pyout",
       "prompt_number": 162,
       "text": [
        "<matplotlib.axes.AxesSubplot at 0x10ac75950>"
       ]
      }
     ],
     "prompt_number": 162
    },
    {
     "cell_type": "markdown",
     "metadata": {
      "slideshow": {
       "slide_type": "slide"
      }
     },
     "source": [
      "Suppose that we separate out before and after year 2000 into two datasets, like so. It happened that the index is now a list of Unicode strings."
     ]
    },
    {
     "cell_type": "code",
     "collapsed": false,
     "input": [
      "import pandas as pd\n",
      "upto2000 = year.loc[:u'2000']\n",
      "after2000 = year.loc[u'2001':]\n",
      "print upto2000.tail(3), '\\n', after2000.head(3)"
     ],
     "language": "python",
     "metadata": {},
     "outputs": [
      {
       "output_type": "stream",
       "stream": "stdout",
       "text": [
        "           tfr    ln_gdp\n",
        "year                    \n",
        "1998  3.287430  9.056870\n",
        "1999  3.262645  9.071454\n",
        "2000  3.189638  9.191046\n",
        "\n",
        "[3 rows x 2 columns] \n",
        "           tfr    ln_gdp\n",
        "year                    \n",
        "2001  3.139298  9.199501\n",
        "2002  3.097953  9.211897\n",
        "2003  3.068448  9.217876\n",
        "\n",
        "[3 rows x 2 columns]\n"
       ]
      }
     ],
     "prompt_number": 163
    },
    {
     "cell_type": "markdown",
     "metadata": {
      "slideshow": {
       "slide_type": "slide"
      }
     },
     "source": [
      "Both `pd.concat()` or `df.append()` can put them together."
     ]
    },
    {
     "cell_type": "code",
     "collapsed": false,
     "input": [
      "yearAgain = pd.concat([upto2000, after2000])\n",
      "print yearAgain.head(3), '\\n', yearAgain.tail(3)"
     ],
     "language": "python",
     "metadata": {},
     "outputs": [
      {
       "output_type": "stream",
       "stream": "stdout",
       "text": [
        "           tfr    ln_gdp\n",
        "year                    \n",
        "1961  5.464729  8.218653\n",
        "1960  5.423905  8.235099\n",
        "1963  5.441211  8.291204\n",
        "\n",
        "[3 rows x 2 columns] \n",
        "           tfr    ln_gdp\n",
        "year                    \n",
        "2006  2.968326  9.322465\n",
        "2008  2.924269  9.347202\n",
        "2007  2.948572  9.354581\n",
        "\n",
        "[3 rows x 2 columns]\n"
       ]
      }
     ],
     "prompt_number": 164
    },
    {
     "cell_type": "code",
     "collapsed": false,
     "input": [
      "yearAgain2 = upto2000.append(after2000)\n",
      "print yearAgain2.head(3), '\\n', yearAgain.tail(3)"
     ],
     "language": "python",
     "metadata": {
      "slideshow": {
       "slide_type": "slide"
      }
     },
     "outputs": [
      {
       "output_type": "stream",
       "stream": "stdout",
       "text": [
        "           tfr    ln_gdp\n",
        "year                    \n",
        "1961  5.464729  8.218653\n",
        "1960  5.423905  8.235099\n",
        "1963  5.441211  8.291204\n",
        "\n",
        "[3 rows x 2 columns] \n",
        "           tfr    ln_gdp\n",
        "year                    \n",
        "2006  2.968326  9.322465\n",
        "2008  2.924269  9.347202\n",
        "2007  2.948572  9.354581\n",
        "\n",
        "[3 rows x 2 columns]\n"
       ]
      }
     ],
     "prompt_number": 165
    },
    {
     "cell_type": "heading",
     "level": 2,
     "metadata": {
      "slideshow": {
       "slide_type": "slide"
      }
     },
     "source": [
      "Summary"
     ]
    },
    {
     "cell_type": "markdown",
     "metadata": {},
     "source": [
      "There are so many other powerful functions and methods remain in pandas and other related packages. For example, we haven't had chance to talk about `merge` and `join`. We have not talked about powerful 'reshaping' (`stack`, and pivot tables), nor Time Series related topics.\n",
      "\n",
      "We did study together, though, the following topics:\n",
      "\n",
      "* What is a DataFrame?\n",
      "* Creating DataFrame and I/O\n",
      "* Getting and Setting values\n",
      "* Missing Data\n",
      "* Append, Concat, Group By"
     ]
    },
    {
     "cell_type": "heading",
     "level": 2,
     "metadata": {
      "slideshow": {
       "slide_type": "slide"
      }
     },
     "source": [
      "References"
     ]
    },
    {
     "cell_type": "markdown",
     "metadata": {},
     "source": [
      "* McKinney, Wes (2012) Chapter 4. \"NumPy Basics: Arrays and Vectorized Computation\" in *Python for Data Analysis:Data Wrangling with Pandas, NumPy, and IPython* O'Reilly. ISBN:1449319793. at [Amazon](http://www.amazon.com/Python-Data-Analysis-Wrangling-IPython/dp/1449319793)\n",
      "* pandas development team (2014) \"pandas: powerful Python data analysis toolkit\" Version 0.13.1 Available at [pandas site](http://pandas.pydata.org/pandas-docs/stable/index.html)"
     ]
    }
   ],
   "metadata": {}
  }
 ]
}