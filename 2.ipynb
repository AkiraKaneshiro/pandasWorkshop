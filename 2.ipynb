{
 "metadata": {
  "name": "",
  "signature": "sha256:3b5932453e3c4401816b14af311df7d9f0bbb8024017264002d8964bd7d3fa25"
 },
 "nbformat": 3,
 "nbformat_minor": 0,
 "worksheets": [
  {
   "cells": [
    {
     "cell_type": "heading",
     "level": 1,
     "metadata": {
      "slideshow": {
       "slide_type": "slide"
      }
     },
     "source": [
      "Data Management with pandas (Python) 2"
     ]
    },
    {
     "cell_type": "markdown",
     "metadata": {},
     "source": [
      "May, 2014\n",
      "\n",
      "Chang Y. Chung"
     ]
    },
    {
     "cell_type": "heading",
     "level": 2,
     "metadata": {
      "slideshow": {
       "slide_type": "slide"
      }
     },
     "source": [
      "What is `DataFrame`?"
     ]
    },
    {
     "cell_type": "markdown",
     "metadata": {},
     "source": [
      "The reference defines it:\n",
      "\n",
      "> Two-dimentional size-mutable, potentially heterogenious tabular data structure with labeled axes (rows and columns)"
     ]
    },
    {
     "cell_type": "markdown",
     "metadata": {
      "slideshow": {
       "slide_type": "slide"
      }
     },
     "source": [
      "Here is a longer way to approach it from the perspective of data structures."
     ]
    },
    {
     "cell_type": "markdown",
     "metadata": {},
     "source": [
      "* NumPy ndarray is an array of `dtype` elements `shape`d. "
     ]
    },
    {
     "cell_type": "code",
     "collapsed": false,
     "input": [
      "import numpy as np\n",
      "\n",
      "rid = np.array([0, 1, 2, 3])\n",
      "rid, rid.dtype, rid.shape"
     ],
     "language": "python",
     "metadata": {},
     "outputs": []
    },
    {
     "cell_type": "markdown",
     "metadata": {
      "slideshow": {
       "slide_type": "slide"
      }
     },
     "source": [
      "* pandas `Series` is an ndarray with an `index` and `name`."
     ]
    },
    {
     "cell_type": "code",
     "collapsed": false,
     "input": [
      "import pandas as pd\n",
      "\n",
      "s1 = pd.Series(\n",
      "    ['Abe', 'Babe', 'Colombe', 'Daube'],\n",
      "    index = rid,\n",
      "    name='firstname')\n",
      "s1"
     ],
     "language": "python",
     "metadata": {},
     "outputs": []
    },
    {
     "cell_type": "markdown",
     "metadata": {
      "slideshow": {
       "slide_type": "fragment"
      }
     },
     "source": [
      "Let's create another `Series`, age."
     ]
    },
    {
     "cell_type": "code",
     "collapsed": false,
     "input": [
      "s2 = pd.Series([23, 20, 22], index=[0, 1, 3], name='age')\n",
      "s2"
     ],
     "language": "python",
     "metadata": {
      "slideshow": {
       "slide_type": "fragment"
      }
     },
     "outputs": []
    },
    {
     "cell_type": "markdown",
     "metadata": {
      "slideshow": {
       "slide_type": "slide"
      }
     },
     "source": [
      "* `DataFrame` is an aligned dictionary of `Series`'."
     ]
    },
    {
     "cell_type": "code",
     "collapsed": false,
     "input": [
      "df = pd.DataFrame({s1.name: s1, s2.name: s2})\n",
      "df"
     ],
     "language": "python",
     "metadata": {},
     "outputs": []
    },
    {
     "cell_type": "markdown",
     "metadata": {
      "slideshow": {
       "slide_type": "fragment"
      }
     },
     "source": [
      "We now have two columns nicely aligned by matching the indices. Age did not have a value that was indexed by the number 2. When age was brought into the DataFrame, pandas aligned the indices and put the missing value, `np.nan`, there."
     ]
    },
    {
     "cell_type": "markdown",
     "metadata": {
      "slideshow": {
       "slide_type": "slide"
      }
     },
     "source": [
      "* Important properties of `DataFrame` includes: `index` (row label or 'observation id') and `columns` (column labels or 'variable name')."
     ]
    },
    {
     "cell_type": "code",
     "collapsed": false,
     "input": [
      "df.index"
     ],
     "language": "python",
     "metadata": {},
     "outputs": []
    },
    {
     "cell_type": "code",
     "collapsed": false,
     "input": [
      "df.columns"
     ],
     "language": "python",
     "metadata": {
      "slideshow": {
       "slide_type": "fragment"
      }
     },
     "outputs": []
    },
    {
     "cell_type": "code",
     "collapsed": false,
     "input": [
      "df.dtypes"
     ],
     "language": "python",
     "metadata": {
      "slideshow": {
       "slide_type": "fragment"
      }
     },
     "outputs": []
    },
    {
     "cell_type": "markdown",
     "metadata": {
      "slideshow": {
       "slide_type": "fragment"
      }
     },
     "source": [
      "A NumPy ndarray or a Series has a `dtype`. `DataFrame` has `dtypes`, since each column has its own `dtype` and they can be different. A `dtypes` is a `Series`."
     ]
    },
    {
     "cell_type": "markdown",
     "metadata": {
      "slideshow": {
       "slide_type": "fragment"
      }
     },
     "source": [
      " * Notice that the age entry in the `dtypes` became *float*. This is because pandas does not have a proper missing value for an integer type. We will talk about this more later when we talk about missing values."
     ]
    },
    {
     "cell_type": "heading",
     "level": 2,
     "metadata": {
      "slideshow": {
       "slide_type": "slide"
      }
     },
     "source": [
      "Quiz"
     ]
    },
    {
     "cell_type": "markdown",
     "metadata": {},
     "source": [
      "Create a data frame of Age Specific Fertility Rate (ASFR) for women in Republic of Korea (South Korea) and US, for 2000-2005. Age ranges and ASFRs for five-year age range for both countries are geven below. \n",
      "Data are from *UN World Population Prospect 2006*."
     ]
    },
    {
     "cell_type": "code",
     "collapsed": false,
     "input": [
      "start = pd.Series(range(15, 46, 5))\n",
      "finish = start + 4\n",
      "age_range = ['{0}-{1}'.format(s, f) for s, f in zip(start, finish)]\n",
      "age_range"
     ],
     "language": "python",
     "metadata": {},
     "outputs": []
    },
    {
     "cell_type": "code",
     "collapsed": false,
     "input": [
      "korea = [3.2, 33.1, 119.9, 72.8, 16.8, 2.5, 0.2]\n",
      "usa = [43.7, 104.5, 114.5, 93.5, 42.8, 8.5, 0.5]"
     ],
     "language": "python",
     "metadata": {},
     "outputs": []
    },
    {
     "cell_type": "code",
     "collapsed": false,
     "input": [
      "# create a DataFrame here.\n"
     ],
     "language": "python",
     "metadata": {},
     "outputs": []
    },
    {
     "cell_type": "heading",
     "level": 2,
     "metadata": {
      "slideshow": {
       "slide_type": "slide"
      }
     },
     "source": [
      "Creating DataFrame and I/O"
     ]
    },
    {
     "cell_type": "markdown",
     "metadata": {
      "slideshow": {
       "slide_type": "-"
      }
     },
     "source": [
      "There are many different ways to create a data frame."
     ]
    },
    {
     "cell_type": "markdown",
     "metadata": {},
     "source": [
      "* The constructor is flexible and takes different things as `data` arguments, not just a `Series`:\n",
      "    - a dictionary of columns\n",
      "    - a list of dictionaries\n",
      "    - a list of tuples\n",
      "    - another DataFrame\n",
      "    - ..."
     ]
    },
    {
     "cell_type": "markdown",
     "metadata": {
      "slideshow": {
       "slide_type": "slide"
      }
     },
     "source": [
      "Below is an example of the `DataFrame` constructor taking in a list of tuples."
     ]
    },
    {
     "cell_type": "code",
     "collapsed": false,
     "input": [
      "df2 = pd.DataFrame([\n",
      "  ('SNSD', 'female', 9),\n",
      "  ('Big Bang', 'male', 5)\n",
      "], columns=['band', 'gender', 'size'])\n",
      "df2"
     ],
     "language": "python",
     "metadata": {},
     "outputs": []
    },
    {
     "cell_type": "markdown",
     "metadata": {
      "slideshow": {
       "slide_type": "slide"
      }
     },
     "source": [
      "* There are many ways to create a `DataFrame`, since pandas has many importing functions that return a `DataFrame`."
     ]
    },
    {
     "cell_type": "markdown",
     "metadata": {},
     "source": [
      "| data in this format        | import function |\n",
      "|-----------------|-----------------|\n",
      "| pickled object  | `read_pickle`   |\n",
      "| delimited text  | `read_table`    |\n",
      "| CSV             | `read_csv`      |\n",
      "| fixed-width text| `read_fwf`      |\n",
      "| clipboard       | `read_clipboard`|\n",
      "| excel           | `read_excel`    |\n",
      "| JSON string     | `read_json`     |\n",
      "| HTML table      | `read_html`     |\n",
      "| HDFStore(HDF5)  | `read_hdf`      |\n",
      "| SQL database    | `read_sql`      |\n",
      "| Google BigQuery | `read_gbq`      |\n",
      "| Stata           | `read_stata`    |"
     ]
    },
    {
     "cell_type": "markdown",
     "metadata": {
      "slideshow": {
       "slide_type": "fragment"
      }
     },
     "source": [
      "* `DataFrame` also has many corresponding methods that go the other way. That is, to *serialize* itself (or to write itself out) in various formats, including `to_pickle`, `to_csv`, `to_hdf`, `to_excel`, `to_json`, `to_stata`, `to_clipboard`, ..."
     ]
    },
    {
     "cell_type": "heading",
     "level": 2,
     "metadata": {
      "slideshow": {
       "slide_type": "slide"
      }
     },
     "source": [
      "I/O into and from a `DataFrame`"
     ]
    },
    {
     "cell_type": "markdown",
     "metadata": {},
     "source": [
      "Here is an example of:\n",
      "\n",
      "    1. Importing a Stata data file (auto.dta) into a pandas DataFrame\n",
      "    2. Saving only the foreign rows into a JSON file (foreign.json); and then\n",
      "    3. Read it back to `DataFrame` (df_foreign)"
     ]
    },
    {
     "cell_type": "code",
     "collapsed": false,
     "input": [
      "auto = pd.read_stata('auto.dta')\n",
      "auto.head(3)"
     ],
     "language": "python",
     "metadata": {
      "slideshow": {
       "slide_type": "fragment"
      }
     },
     "outputs": []
    },
    {
     "cell_type": "markdown",
     "metadata": {
      "slideshow": {
       "slide_type": "fragment"
      }
     },
     "source": [
      "Save the `columns` for the later use."
     ]
    },
    {
     "cell_type": "code",
     "collapsed": false,
     "input": [
      "cols = auto.columns.copy()\n",
      "cols"
     ],
     "language": "python",
     "metadata": {
      "slideshow": {
       "slide_type": "fragment"
      }
     },
     "outputs": []
    },
    {
     "cell_type": "markdown",
     "metadata": {
      "slideshow": {
       "slide_type": "slide"
      }
     },
     "source": [
      "Select foreign makes only."
     ]
    },
    {
     "cell_type": "code",
     "collapsed": false,
     "input": [
      "foreign = auto[auto.foreign == 'Foreign']\n",
      "foreign.head(3)"
     ],
     "language": "python",
     "metadata": {},
     "outputs": []
    },
    {
     "cell_type": "markdown",
     "metadata": {
      "slideshow": {
       "slide_type": "fragment"
      }
     },
     "source": [
      "And then write it out as a JSON string."
     ]
    },
    {
     "cell_type": "code",
     "collapsed": false,
     "input": [
      "foreign.to_json('foreign.json')"
     ],
     "language": "python",
     "metadata": {
      "slideshow": {
       "slide_type": "fragment"
      }
     },
     "outputs": []
    },
    {
     "cell_type": "markdown",
     "metadata": {
      "slideshow": {
       "slide_type": "slide"
      }
     },
     "source": [
      "Reading it back using the `read_json` method. While writing to JSON, the order of columns has  been changed. We fix it by re-indexing along the second axis (i.e. columns). And then show the first 3 rows."
     ]
    },
    {
     "cell_type": "code",
     "collapsed": false,
     "input": [
      "df_foreign = pd.read_json('foreign.json')\n",
      "df_foreign.reindex_axis(cols, axis=1).head(3)"
     ],
     "language": "python",
     "metadata": {},
     "outputs": []
    },
    {
     "cell_type": "heading",
     "level": 2,
     "metadata": {
      "slideshow": {
       "slide_type": "slide"
      }
     },
     "source": [
      "Getting and Setting"
     ]
    },
    {
     "cell_type": "markdown",
     "metadata": {},
     "source": [
      "Once you have your data in a `DataFrame`, then you may naturally want to retrieve (*get*) and/or to change (*set*) the value or values."
     ]
    },
    {
     "cell_type": "markdown",
     "metadata": {},
     "source": [
      "Recall when we get/set a value in a NumPy ndarray, we use an integer position (and zero-) based index."
     ]
    },
    {
     "cell_type": "code",
     "collapsed": false,
     "input": [
      "import numpy as np\n",
      "\n",
      "a = np.array([\n",
      "    [0, 1, 2],\n",
      "    [3, 4, 5]\n",
      "])\n",
      "a[1,2] # get"
     ],
     "language": "python",
     "metadata": {},
     "outputs": []
    },
    {
     "cell_type": "code",
     "collapsed": false,
     "input": [
      "a[1, 2] = 99 # set\n",
      "a"
     ],
     "language": "python",
     "metadata": {},
     "outputs": []
    },
    {
     "cell_type": "markdown",
     "metadata": {
      "slideshow": {
       "slide_type": "slide"
      }
     },
     "source": [
      "pandas data structures have *labels*, that can be non-integers. This permits us getting/setting via labels, in addition to doing so via integer positions. For instance,"
     ]
    },
    {
     "cell_type": "code",
     "collapsed": false,
     "input": [
      "s = pd.Series([0, 1, 2], index=['Abe', 'Betty', 'Caroline'])\n",
      "s"
     ],
     "language": "python",
     "metadata": {},
     "outputs": []
    },
    {
     "cell_type": "code",
     "collapsed": false,
     "input": [
      "print 'via label.            s[\\'Betty\\']=', s['Betty']\n",
      "print 'via integer position. s[1]=', s[1]"
     ],
     "language": "python",
     "metadata": {},
     "outputs": []
    },
    {
     "cell_type": "markdown",
     "metadata": {
      "slideshow": {
       "slide_type": "slide"
      }
     },
     "source": [
      "Getting a value does work. Considering that an index can be an integer, a better way is to tell pandas explicitly which way you intend the *key* should be understood."
     ]
    },
    {
     "cell_type": "markdown",
     "metadata": {},
     "source": [
      "If you mean the key to be:\n",
      "\n",
      "* a *label* (or index), then use `.loc`; \n",
      "* an integer *position*, then use `.iloc`."
     ]
    },
    {
     "cell_type": "code",
     "collapsed": false,
     "input": [
      "print 'via integer position. s.loc[\\'Betty\\']=', s.loc['Betty']\n",
      "print 'via label.            s.iloc[1]=', s.iloc[1]"
     ],
     "language": "python",
     "metadata": {},
     "outputs": []
    },
    {
     "cell_type": "markdown",
     "metadata": {
      "slideshow": {
       "slide_type": "slide"
      }
     },
     "source": [
      "`.ix` permits both but assume it a label first, if not found, then a position. It is better to avoid it, if possible."
     ]
    },
    {
     "cell_type": "code",
     "collapsed": false,
     "input": [
      "s.ix['Betty'], s.ix[1]"
     ],
     "language": "python",
     "metadata": {},
     "outputs": []
    },
    {
     "cell_type": "markdown",
     "metadata": {
      "slideshow": {
       "slide_type": "slide"
      }
     },
     "source": [
      "This works the same way for a `DataFrame`. Only that it is a 2D object and we have a 2-tuple of integer positions with `.iloc` or a 2-tuple of labels with `.loc`.\n",
      "\n",
      "That is, given the following DataFrame. "
     ]
    },
    {
     "cell_type": "code",
     "collapsed": false,
     "input": [
      "df = pd.DataFrame([\n",
      "    (23, 'Abe'),\n",
      "    (20, 'Babe'),\n",
      "    (22, 'Daube')\n",
      "], index=['R1', 'R2', 'R3'], columns=['age', 'firstname'])\n",
      "df"
     ],
     "language": "python",
     "metadata": {},
     "outputs": []
    },
    {
     "cell_type": "code",
     "collapsed": false,
     "input": [
      "df.loc['R1', 'age'], df.iloc[0, 0]"
     ],
     "language": "python",
     "metadata": {
      "slideshow": {
       "slide_type": "fragment"
      }
     },
     "outputs": []
    },
    {
     "cell_type": "markdown",
     "metadata": {
      "slideshow": {
       "slide_type": "slide"
      }
     },
     "source": [
      "Setting a value is straight forward as well."
     ]
    },
    {
     "cell_type": "code",
     "collapsed": false,
     "input": [
      "df.loc['R1', 'age'] = 100\n",
      "df"
     ],
     "language": "python",
     "metadata": {},
     "outputs": []
    },
    {
     "cell_type": "code",
     "collapsed": false,
     "input": [
      "df.iloc[0,1] = 'Abraham'\n",
      "df"
     ],
     "language": "python",
     "metadata": {
      "slideshow": {
       "slide_type": "fragment"
      }
     },
     "outputs": []
    },
    {
     "cell_type": "markdown",
     "metadata": {
      "slideshow": {
       "slide_type": "slide"
      }
     },
     "source": [
      "`.loc` can actually do more:\n",
      "\n",
      "* Raises a `KeyError` exception when the label was not found.\n",
      "* Can take a list or array of labels, in either dimentions or both.\n",
      "* Can take a slice with labels, i.e. 'age':'firstname'. Notice that both start and the stop parts are *inclusive*!!!\n",
      "* Can take a boolean array."
     ]
    },
    {
     "cell_type": "code",
     "collapsed": false,
     "input": [
      "df.loc['R1', 'age']"
     ],
     "language": "python",
     "metadata": {},
     "outputs": []
    },
    {
     "cell_type": "code",
     "collapsed": false,
     "input": [
      "df.loc[['R1', 'R3'], ['age', 'firstname']]"
     ],
     "language": "python",
     "metadata": {
      "slideshow": {
       "slide_type": "fragment"
      }
     },
     "outputs": []
    },
    {
     "cell_type": "markdown",
     "metadata": {
      "slideshow": {
       "slide_type": "slide"
      }
     },
     "source": [
      "Remember the *stop* part of a label slice is *inclusive*. That is, 'R2' row is *included* below."
     ]
    },
    {
     "cell_type": "code",
     "collapsed": false,
     "input": [
      "df.loc['R1':'R2', 'age':'age']"
     ],
     "language": "python",
     "metadata": {},
     "outputs": []
    },
    {
     "cell_type": "markdown",
     "metadata": {
      "slideshow": {
       "slide_type": "slide"
      }
     },
     "source": [
      "`.iloc` is also powerful:\n",
      "    \n",
      "* Raises an `IndexError` exception when the integer position is out of bounds (0 to length -1).\n",
      "* Can take an integer list or array.\n",
      "* Can take a slice.\n",
      "\n"
     ]
    },
    {
     "cell_type": "markdown",
     "metadata": {
      "slideshow": {
       "slide_type": "slide"
      }
     },
     "source": [
      "Let's see the `df` again."
     ]
    },
    {
     "cell_type": "code",
     "collapsed": false,
     "input": [
      "df"
     ],
     "language": "python",
     "metadata": {},
     "outputs": []
    },
    {
     "cell_type": "code",
     "collapsed": false,
     "input": [
      "df.iloc[0, 1]"
     ],
     "language": "python",
     "metadata": {
      "slideshow": {
       "slide_type": "fragment"
      }
     },
     "outputs": []
    },
    {
     "cell_type": "code",
     "collapsed": false,
     "input": [
      "df.iloc[[0, 2], [0]]"
     ],
     "language": "python",
     "metadata": {
      "slideshow": {
       "slide_type": "fragment"
      }
     },
     "outputs": []
    },
    {
     "cell_type": "heading",
     "level": 2,
     "metadata": {
      "slideshow": {
       "slide_type": "slide"
      }
     },
     "source": [
      "Quiz"
     ]
    },
    {
     "cell_type": "markdown",
     "metadata": {},
     "source": [
      "How many rows below returns? Assume that the DataFrame df has more than three rows."
     ]
    },
    {
     "cell_type": "code",
     "collapsed": false,
     "input": [
      "df.iloc[0:2, :]"
     ],
     "language": "python",
     "metadata": {},
     "outputs": []
    },
    {
     "cell_type": "markdown",
     "metadata": {
      "slideshow": {
       "slide_type": "slide"
      }
     },
     "source": [
      "Specifying the key using `.loc` and `.iloc` is the best practice. For the sake of convenience, however, a simple bracketed syntax is often used."
     ]
    },
    {
     "cell_type": "markdown",
     "metadata": {},
     "source": [
      "* A simple bracketed slice gets/sets the rows."
     ]
    },
    {
     "cell_type": "code",
     "collapsed": false,
     "input": [
      "df2 = df[:2]\n",
      "df2"
     ],
     "language": "python",
     "metadata": {},
     "outputs": []
    },
    {
     "cell_type": "markdown",
     "metadata": {},
     "source": [
      "* A simple bracketed column name (or list of names), gets/sets the columns."
     ]
    },
    {
     "cell_type": "code",
     "collapsed": false,
     "input": [
      "df2 = df[['firstname', 'age']] # col order changed\n",
      "df2"
     ],
     "language": "python",
     "metadata": {},
     "outputs": []
    },
    {
     "cell_type": "markdown",
     "metadata": {
      "slideshow": {
       "slide_type": "slide"
      }
     },
     "source": [
      "Here is an Python-like idiom of swapping columns in a DataFrame. In this case, it is rather silly. :-)"
     ]
    },
    {
     "cell_type": "code",
     "collapsed": false,
     "input": [
      "df[['firstname', 'age']] = df[['age', 'firstname']]\n",
      "df"
     ],
     "language": "python",
     "metadata": {},
     "outputs": []
    },
    {
     "cell_type": "heading",
     "level": 2,
     "metadata": {
      "slideshow": {
       "slide_type": "slide"
      }
     },
     "source": [
      "Quiz"
     ]
    },
    {
     "cell_type": "markdown",
     "metadata": {},
     "source": [
      "Given a DataFrame df1, create another, df2, which looks like df3."
     ]
    },
    {
     "cell_type": "code",
     "collapsed": false,
     "input": [
      "rows = range(3)\n",
      "cols = list('ABCDE')\n",
      "df1 = pd.DataFrame(np.arange(15).reshape(3,5), index=rows, columns=cols)\n",
      "df1"
     ],
     "language": "python",
     "metadata": {},
     "outputs": []
    },
    {
     "cell_type": "code",
     "collapsed": false,
     "input": [
      "df3 = pd.DataFrame([\n",
      "    ( 0,  1,  -2, 23),\n",
      "    (10, 11, -12, 45),\n",
      "], index=[0,2], columns=list('ABCF'))\n",
      "df3"
     ],
     "language": "python",
     "metadata": {},
     "outputs": []
    },
    {
     "cell_type": "markdown",
     "metadata": {
      "slideshow": {
       "slide_type": "slide"
      }
     },
     "source": [
      "An answer:"
     ]
    },
    {
     "cell_type": "code",
     "collapsed": false,
     "input": [
      "df2 = df1.loc[0:2:2, 'A':'C']\n",
      "df2['C'] *= -1\n",
      "df2['F'] = [23, 45]\n",
      "all(df2 == df3)"
     ],
     "language": "python",
     "metadata": {},
     "outputs": []
    },
    {
     "cell_type": "heading",
     "level": 2,
     "metadata": {
      "slideshow": {
       "slide_type": "slide"
      }
     },
     "source": [
      "Missing Data"
     ]
    },
    {
     "cell_type": "markdown",
     "metadata": {},
     "source": [
      "* Recall that `None` is a Python universal object. It is a placeholder and often evaluated as False, but it compares itself True."
     ]
    },
    {
     "cell_type": "code",
     "collapsed": false,
     "input": [
      "None, type(None), None == None"
     ],
     "language": "python",
     "metadata": {},
     "outputs": []
    },
    {
     "cell_type": "markdown",
     "metadata": {
      "slideshow": {
       "slide_type": "slide"
      }
     },
     "source": [
      "* `np.nan` is also a placeholder. It is of a float type, representing 'Not a Number', something like log(-1). It *always* compares `False`, including being compared to itself, of which is the defining characteristic. Use `np.isnan()` to identify a value is np.nan."
     ]
    },
    {
     "cell_type": "code",
     "collapsed": false,
     "input": [
      "np.log(-1), type(np.nan)"
     ],
     "language": "python",
     "metadata": {
      "slideshow": {
       "slide_type": "-"
      }
     },
     "outputs": []
    },
    {
     "cell_type": "code",
     "collapsed": false,
     "input": [
      "np.nan < 1.0, np.nan >= 1.0, np.nan == np.nan"
     ],
     "language": "python",
     "metadata": {
      "slideshow": {
       "slide_type": "fragment"
      }
     },
     "outputs": []
    },
    {
     "cell_type": "code",
     "collapsed": false,
     "input": [
      "np.nan != np.nan, np.isnan(np.nan)"
     ],
     "language": "python",
     "metadata": {
      "slideshow": {
       "slide_type": "fragment"
      }
     },
     "outputs": []
    },
    {
     "cell_type": "markdown",
     "metadata": {
      "slideshow": {
       "slide_type": "slide"
      }
     },
     "source": [
      "* pandas uses `np.nan` (and `None`) to represent missing data. They are, by default, *excluded* from calculations."
     ]
    },
    {
     "cell_type": "markdown",
     "metadata": {
      "slideshow": {
       "slide_type": "-"
      }
     },
     "source": [
      "pandas automatically promotes int `dtype` to a float, when there is an np.nan within a Series. Similarly, boolean `dtype` is cast to object. Here is an example of the former."
     ]
    },
    {
     "cell_type": "code",
     "collapsed": false,
     "input": [
      "left = pd.DataFrame({'a': [23, 13, 25, 42]}, index=range(4))\n",
      "right = pd.DataFrame({'b': [11, 11, 11]}, index=[0, 2, 3])\n",
      "\n",
      "together = pd.merge(left, right, how='left', left_index=True, right_index=True)\n",
      "\n",
      "print together\n",
      "print together.dtypes"
     ],
     "language": "python",
     "metadata": {},
     "outputs": []
    },
    {
     "cell_type": "markdown",
     "metadata": {
      "slideshow": {
       "slide_type": "slide"
      }
     },
     "source": [
      "* pandas provide `isnull()` and `notnull()` functions to identify missing values. They return booleans. "
     ]
    },
    {
     "cell_type": "code",
     "collapsed": false,
     "input": [
      "df = pd.DataFrame(np.log(-np.eye(3)))\n",
      "df"
     ],
     "language": "python",
     "metadata": {},
     "outputs": []
    },
    {
     "cell_type": "code",
     "collapsed": false,
     "input": [
      "pd.isnull(df)"
     ],
     "language": "python",
     "metadata": {
      "slideshow": {
       "slide_type": "fragment"
      }
     },
     "outputs": []
    },
    {
     "cell_type": "code",
     "collapsed": false,
     "input": [
      "pd.notnull(df)"
     ],
     "language": "python",
     "metadata": {
      "slideshow": {
       "slide_type": "fragment"
      }
     },
     "outputs": []
    },
    {
     "cell_type": "markdown",
     "metadata": {
      "slideshow": {
       "slide_type": "slide"
      }
     },
     "source": [
      "* `dropna()`, removes either columns (axis=1) or rows (axis=0) with *any* missing values. "
     ]
    },
    {
     "cell_type": "code",
     "collapsed": false,
     "input": [
      "df.iloc[1,1] = 23\n",
      "df"
     ],
     "language": "python",
     "metadata": {},
     "outputs": []
    },
    {
     "cell_type": "code",
     "collapsed": false,
     "input": [
      "dropped = df.dropna(axis=0)\n",
      "dropped"
     ],
     "language": "python",
     "metadata": {
      "slideshow": {
       "slide_type": "fragment"
      }
     },
     "outputs": []
    },
    {
     "cell_type": "markdown",
     "metadata": {
      "slideshow": {
       "slide_type": "slide"
      }
     },
     "source": [
      "* When filling the missing values, `fillna()` and `interpolate()` come in handy."
     ]
    },
    {
     "cell_type": "code",
     "collapsed": false,
     "input": [
      "df = pd.DataFrame(np.arange(18.).reshape(6, 3), columns=list('abc'))\n",
      "df.iloc[2:4, [0, 2]] = np.nan\n",
      "df.iloc[1, 1] = np.nan\n",
      "df"
     ],
     "language": "python",
     "metadata": {},
     "outputs": []
    },
    {
     "cell_type": "code",
     "collapsed": false,
     "input": [
      "df['a'] = df['a'].interpolate(method='polynomial')\n",
      "df['b'] = df['b'].fillna(999)\n",
      "df"
     ],
     "language": "python",
     "metadata": {
      "slideshow": {
       "slide_type": "slide"
      }
     },
     "outputs": []
    },
    {
     "cell_type": "heading",
     "level": 2,
     "metadata": {
      "slideshow": {
       "slide_type": "slide"
      }
     },
     "source": [
      "Some Data Munging Tools: Append, Concat, Group By"
     ]
    },
    {
     "cell_type": "markdown",
     "metadata": {},
     "source": [
      "Let's download some World Bank's World Development Indicators.\n",
      "\n",
      "> This example is largely based on the \"World Bank\" section of *pandas 0.13.1 documentation* available [here](http://pandas.pydata.org/pandas-docs/stable/remote_data.html) but was expanded to demonstrate more methods and functions."
     ]
    },
    {
     "cell_type": "markdown",
     "metadata": {
      "slideshow": {
       "slide_type": "fragment"
      }
     },
     "source": [
      "First, we download a GDP per capita series and a fertility rate. The search method shows available series."
     ]
    },
    {
     "cell_type": "code",
     "collapsed": false,
     "input": [
      "from pandas.io import wb\n",
      "\n",
      "wb.search('fertility').iloc[:, :2]"
     ],
     "language": "python",
     "metadata": {
      "slideshow": {
       "slide_type": "fragment"
      }
     },
     "outputs": []
    },
    {
     "cell_type": "markdown",
     "metadata": {
      "slideshow": {
       "slide_type": "slide"
      }
     },
     "source": [
      "Let's choose two series: one fore GDP per capita and another for Total Fertility Rate. We request all the available countries and some years."
     ]
    },
    {
     "cell_type": "code",
     "collapsed": false,
     "input": [
      "ind = ['NY.GDP.PCAP.KD', 'SP.DYN.TFRT.IN']\n",
      "df = wb.download(indicator=ind, country='all', start=1950, end=2014)"
     ],
     "language": "python",
     "metadata": {},
     "outputs": []
    },
    {
     "cell_type": "markdown",
     "metadata": {
      "slideshow": {
       "slide_type": "fragment"
      }
     },
     "source": [
      "Shorten the column labels. and let's see the dataframe. It has a MultiIndex (or hierarchical index)."
     ]
    },
    {
     "cell_type": "code",
     "collapsed": false,
     "input": [
      "df.columns = ['gdp', 'tfr']\n",
      "df.head()"
     ],
     "language": "python",
     "metadata": {
      "slideshow": {
       "slide_type": "fragment"
      }
     },
     "outputs": []
    },
    {
     "cell_type": "markdown",
     "metadata": {
      "slideshow": {
       "slide_type": "slide"
      }
     },
     "source": [
      "Before we do anything, let's drop any rows that has missing values, and convert both columns to numbers."
     ]
    },
    {
     "cell_type": "code",
     "collapsed": false,
     "input": [
      "df = df.dropna()\n",
      "df = df.convert_objects(convert_numeric=True)\n",
      "df.to_pickle('df.pkl')\n",
      "df.dtypes"
     ],
     "language": "python",
     "metadata": {},
     "outputs": []
    },
    {
     "cell_type": "markdown",
     "metadata": {
      "slideshow": {
       "slide_type": "slide"
      }
     },
     "source": [
      "How many records do we have? We can get summary data using `describe()` method."
     ]
    },
    {
     "cell_type": "code",
     "collapsed": false,
     "input": [
      "df.describe()"
     ],
     "language": "python",
     "metadata": {},
     "outputs": []
    },
    {
     "cell_type": "markdown",
     "metadata": {
      "slideshow": {
       "slide_type": "slide"
      }
     },
     "source": [
      "Let's now try some group by using the multiIndex we have. Let's aggregate our data at the country level by calculating a mean over years within each country. Amazinly, it is just one line."
     ]
    },
    {
     "cell_type": "code",
     "collapsed": false,
     "input": [
      "country = df.groupby(level=['country']).mean()\n",
      "print country.describe()"
     ],
     "language": "python",
     "metadata": {},
     "outputs": []
    },
    {
     "cell_type": "markdown",
     "metadata": {
      "slideshow": {
       "slide_type": "fragment"
      }
     },
     "source": [
      "We save the country data file locally, only after we sort it by the gdp."
     ]
    },
    {
     "cell_type": "code",
     "collapsed": false,
     "input": [
      "country.sort(columns=['gdp'], axis=0, inplace=True)\n",
      "country.to_pickle('country.pkl')"
     ],
     "language": "python",
     "metadata": {
      "slideshow": {
       "slide_type": "fragment"
      }
     },
     "outputs": []
    },
    {
     "cell_type": "markdown",
     "metadata": {
      "slideshow": {
       "slide_type": "slide"
      }
     },
     "source": [
      "We can graph gdp and tfr together, "
     ]
    },
    {
     "cell_type": "code",
     "collapsed": false,
     "input": [
      "country = pd.read_pickle('country.pkl')\n",
      "country['log_gdp'] = np.log(country['gdp'])\n",
      "country = country.drop('gdp', axis=1)\n",
      "import matplotlib.pyplot as plt\n",
      "plt.scatter(country['tfr'], country['log_gdp'])"
     ],
     "language": "python",
     "metadata": {},
     "outputs": []
    },
    {
     "cell_type": "markdown",
     "metadata": {
      "slideshow": {
       "slide_type": "slide"
      }
     },
     "source": [
      "Another way is to aggregate over countries, so that we end up with yearly data. Aggregation is simple using group by again."
     ]
    },
    {
     "cell_type": "code",
     "collapsed": false,
     "input": [
      "df = pd.read_pickle('df.pkl')\n",
      "year = df.groupby(level='year').mean()\n",
      "year['ln_gdp'] = np.log(year['gdp'])\n",
      "year = year.drop('gdp', axis=1)\n",
      "year.sort(columns=['ln_gdp'], axis=0, inplace=True)\n",
      "year.to_pickle('year.pkl')\n",
      "year.plot()"
     ],
     "language": "python",
     "metadata": {},
     "outputs": []
    },
    {
     "cell_type": "markdown",
     "metadata": {
      "slideshow": {
       "slide_type": "slide"
      }
     },
     "source": [
      "Suppose that we separate out before and after year 2000 into two datasets, like so. It happened that the index is now a list of Unicode strings."
     ]
    },
    {
     "cell_type": "code",
     "collapsed": false,
     "input": [
      "upto2000 = year.loc[:u'2000']\n",
      "after2000 = year.loc[u'2001':]\n",
      "print upto2000.tail(3), '\\n', after2000.head(3)"
     ],
     "language": "python",
     "metadata": {},
     "outputs": []
    },
    {
     "cell_type": "markdown",
     "metadata": {
      "slideshow": {
       "slide_type": "slide"
      }
     },
     "source": [
      "Both `pd.concat()` or `df.append()` can put them together."
     ]
    },
    {
     "cell_type": "code",
     "collapsed": false,
     "input": [
      "yearAgain = pd.concat([upto2000, after2000])\n",
      "print yearAgain.head(3), '\\n', yearAgain.tail(3)"
     ],
     "language": "python",
     "metadata": {},
     "outputs": []
    },
    {
     "cell_type": "code",
     "collapsed": false,
     "input": [
      "yearAgain2 = upto2000.append(after2000)\n",
      "print yearAgain2.head(3), '\\n', yearAgain.tail(3)"
     ],
     "language": "python",
     "metadata": {
      "slideshow": {
       "slide_type": "slide"
      }
     },
     "outputs": []
    },
    {
     "cell_type": "heading",
     "level": 2,
     "metadata": {
      "slideshow": {
       "slide_type": "slide"
      }
     },
     "source": [
      "Summary"
     ]
    },
    {
     "cell_type": "markdown",
     "metadata": {},
     "source": [
      "There are so many other powerful functions and methods remain in pandas and other related packages. For example, we haven't had chance to talk about `merge` and `join`. We have not talked about powerful 'reshaping' (`stack`, and pivot tables), nor Time Series related topics.\n",
      "\n",
      "We did study together, though, the following topics:\n",
      "\n",
      "* What is a DataFrame?\n",
      "* Creating DataFrame and I/O\n",
      "* Getting and Setting values\n",
      "* Missing Data\n",
      "* Append, Concat, Group By"
     ]
    },
    {
     "cell_type": "heading",
     "level": 2,
     "metadata": {
      "slideshow": {
       "slide_type": "slide"
      }
     },
     "source": [
      "References"
     ]
    },
    {
     "cell_type": "markdown",
     "metadata": {},
     "source": [
      "* McKinney, Wes (2012) Chapter 4. \"NumPy Basics: Arrays and Vectorized Computation\" in *Python for Data Analysis:Data Wrangling with Pandas, NumPy, and IPython* O'Reilly. ISBN:1449319793. at [Amazon](http://www.amazon.com/Python-Data-Analysis-Wrangling-IPython/dp/1449319793)\n",
      "* pandas development team (2014) \"pandas: powerful Python data analysis toolkit\" Version 0.13.1 Available at [pandas site](http://pandas.pydata.org/pandas-docs/stable/index.html)"
     ]
    }
   ],
   "metadata": {}
  }
 ]
}