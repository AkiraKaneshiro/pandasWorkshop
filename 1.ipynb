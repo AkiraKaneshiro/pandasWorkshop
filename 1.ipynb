{
 "metadata": {
  "name": "",
  "signature": "sha256:5ac2eda4f8e4ed177155cc89ca2e5f3a22fedddb7b2f05305189ef6a9667ed16"
 },
 "nbformat": 3,
 "nbformat_minor": 0,
 "worksheets": [
  {
   "cells": [
    {
     "cell_type": "heading",
     "level": 1,
     "metadata": {
      "slideshow": {
       "slide_type": "slide"
      }
     },
     "source": [
      "Data Management with pandas (Python) 1"
     ]
    },
    {
     "cell_type": "markdown",
     "metadata": {},
     "source": [
      "May, 2014\n",
      "\n",
      "Chang Y. Chung"
     ]
    },
    {
     "cell_type": "heading",
     "level": 2,
     "metadata": {
      "slideshow": {
       "slide_type": "slide"
      }
     },
     "source": [
      "Overview"
     ]
    },
    {
     "cell_type": "markdown",
     "metadata": {},
     "source": [
      "Pandas provide data structures that are flexible containers for lower dimensional data. Two main objects are `Series` and `DataFrame`:"
     ]
    },
    {
     "cell_type": "markdown",
     "metadata": {
      "slideshow": {
       "slide_type": "fragment"
      }
     },
     "source": [
      "* `Series`: 1D labeled NumPy `ndarray`"
     ]
    },
    {
     "cell_type": "markdown",
     "metadata": {
      "slideshow": {
       "slide_type": "fragment"
      }
     },
     "source": [
      "* `DataFrame`: 2D labeled, table of potentially heterogeneously-typed `Series`"
     ]
    },
    {
     "cell_type": "markdown",
     "metadata": {
      "slideshow": {
       "slide_type": "fragment"
      }
     },
     "source": [
      "Also, there are `TimeSeries` (`Series` indexed by datetimes) and `Panel` (3D labeled table of `DataFrame`s)."
     ]
    },
    {
     "cell_type": "heading",
     "level": 2,
     "metadata": {
      "slideshow": {
       "slide_type": "slide"
      }
     },
     "source": [
      "`Series` is a NumPy `ndarray` with an axis `index` and `name`."
     ]
    },
    {
     "cell_type": "markdown",
     "metadata": {},
     "source": [
      "This is an `ndarray`."
     ]
    },
    {
     "cell_type": "code",
     "collapsed": false,
     "input": [
      "import numpy as np\n",
      "import pandas as pd\n",
      "\n",
      "data = np.array([23, 31, 2, 3])\n",
      "data"
     ],
     "language": "python",
     "metadata": {},
     "outputs": [
      {
       "metadata": {},
       "output_type": "pyout",
       "prompt_number": 1,
       "text": [
        "array([23, 31,  2,  3])"
       ]
      }
     ],
     "prompt_number": 1
    },
    {
     "cell_type": "markdown",
     "metadata": {},
     "source": [
      "This is an `ndarray`, super-charged."
     ]
    },
    {
     "cell_type": "code",
     "collapsed": false,
     "input": [
      "s = pd.Series(data, index=['a', 'b', 'c', 'd'], name='mySeries')\n",
      "s"
     ],
     "language": "python",
     "metadata": {
      "slideshow": {
       "slide_type": "fragment"
      }
     },
     "outputs": [
      {
       "metadata": {},
       "output_type": "pyout",
       "prompt_number": 2,
       "text": [
        "a    23\n",
        "b    31\n",
        "c     2\n",
        "d     3\n",
        "Name: mySeries, dtype: int64"
       ]
      }
     ],
     "prompt_number": 2
    },
    {
     "cell_type": "code",
     "collapsed": false,
     "input": [
      "s.index"
     ],
     "language": "python",
     "metadata": {
      "slideshow": {
       "slide_type": "fragment"
      }
     },
     "outputs": [
      {
       "metadata": {},
       "output_type": "pyout",
       "prompt_number": 3,
       "text": [
        "Index([u'a', u'b', u'c', u'd'], dtype='object')"
       ]
      }
     ],
     "prompt_number": 3
    },
    {
     "cell_type": "heading",
     "level": 2,
     "metadata": {
      "slideshow": {
       "slide_type": "slide"
      }
     },
     "source": [
      "`Series` is like `ndarray`"
     ]
    },
    {
     "cell_type": "markdown",
     "metadata": {},
     "source": [
      "Get by an integer index:"
     ]
    },
    {
     "cell_type": "code",
     "collapsed": false,
     "input": [
      "s[0]"
     ],
     "language": "python",
     "metadata": {
      "slideshow": {
       "slide_type": "fragment"
      }
     },
     "outputs": [
      {
       "metadata": {},
       "output_type": "pyout",
       "prompt_number": 4,
       "text": [
        "23"
       ]
      }
     ],
     "prompt_number": 4
    },
    {
     "cell_type": "markdown",
     "metadata": {
      "slideshow": {
       "slide_type": "fragment"
      }
     },
     "source": [
      "Slicing returns a view:"
     ]
    },
    {
     "cell_type": "code",
     "collapsed": false,
     "input": [
      "s3 = s[:3]\n",
      "s3[0] = 999\n",
      "s"
     ],
     "language": "python",
     "metadata": {
      "slideshow": {
       "slide_type": "fragment"
      }
     },
     "outputs": [
      {
       "metadata": {},
       "output_type": "pyout",
       "prompt_number": 5,
       "text": [
        "a    999\n",
        "b     31\n",
        "c      2\n",
        "d      3\n",
        "Name: mySeries, dtype: int64"
       ]
      }
     ],
     "prompt_number": 5
    },
    {
     "cell_type": "code",
     "collapsed": false,
     "input": [
      "s"
     ],
     "language": "python",
     "metadata": {
      "slideshow": {
       "slide_type": "slide"
      }
     },
     "outputs": [
      {
       "metadata": {},
       "output_type": "pyout",
       "prompt_number": 6,
       "text": [
        "a    999\n",
        "b     31\n",
        "c      2\n",
        "d      3\n",
        "Name: mySeries, dtype: int64"
       ]
      }
     ],
     "prompt_number": 6
    },
    {
     "cell_type": "markdown",
     "metadata": {
      "slideshow": {
       "slide_type": "fragment"
      }
     },
     "source": [
      "Boolean indexing works, as well."
     ]
    },
    {
     "cell_type": "code",
     "collapsed": false,
     "input": [
      "above_median = s[s > s.median()]\n",
      "above_median"
     ],
     "language": "python",
     "metadata": {
      "slideshow": {
       "slide_type": "fragment"
      }
     },
     "outputs": [
      {
       "metadata": {},
       "output_type": "pyout",
       "prompt_number": 7,
       "text": [
        "a    999\n",
        "b     31\n",
        "Name: mySeries, dtype: int64"
       ]
      }
     ],
     "prompt_number": 7
    },
    {
     "cell_type": "markdown",
     "metadata": {
      "slideshow": {
       "slide_type": "slide"
      }
     },
     "source": [
      "Mathematical operations and functions are *vectorized*."
     ]
    },
    {
     "cell_type": "code",
     "collapsed": false,
     "input": [
      "s ** 0.5"
     ],
     "language": "python",
     "metadata": {
      "slideshow": {
       "slide_type": "-"
      }
     },
     "outputs": [
      {
       "metadata": {},
       "output_type": "pyout",
       "prompt_number": 8,
       "text": [
        "a    31.606961\n",
        "b     5.567764\n",
        "c     1.414214\n",
        "d     1.732051\n",
        "Name: mySeries, dtype: float64"
       ]
      }
     ],
     "prompt_number": 8
    },
    {
     "cell_type": "code",
     "collapsed": false,
     "input": [
      "np.sqrt(s)"
     ],
     "language": "python",
     "metadata": {
      "slideshow": {
       "slide_type": "fragment"
      }
     },
     "outputs": [
      {
       "metadata": {},
       "output_type": "pyout",
       "prompt_number": 9,
       "text": [
        "a    31.606961\n",
        "b     5.567764\n",
        "c     1.414214\n",
        "d     1.732051\n",
        "Name: mySeries, dtype: float64"
       ]
      }
     ],
     "prompt_number": 9
    },
    {
     "cell_type": "heading",
     "level": 2,
     "metadata": {
      "slideshow": {
       "slide_type": "slide"
      }
     },
     "source": [
      "`Series` behaves like a dictionary, as well."
     ]
    },
    {
     "cell_type": "markdown",
     "metadata": {},
     "source": [
      "You can create a Series from a dictionary."
     ]
    },
    {
     "cell_type": "code",
     "collapsed": false,
     "input": [
      "s = pd.Series({\n",
      "    'Tom': 0,\n",
      "    'Mike': 1,\n",
      "    'Jane': 2,\n",
      "    'Mary': 3,\n",
      "    'Claudia': 4\n",
      "})\n",
      "s"
     ],
     "language": "python",
     "metadata": {
      "slideshow": {
       "slide_type": "fragment"
      }
     },
     "outputs": [
      {
       "metadata": {},
       "output_type": "pyout",
       "prompt_number": 10,
       "text": [
        "Claudia    4\n",
        "Jane       2\n",
        "Mary       3\n",
        "Mike       1\n",
        "Tom        0\n",
        "dtype: int64"
       ]
      }
     ],
     "prompt_number": 10
    },
    {
     "cell_type": "markdown",
     "metadata": {
      "slideshow": {
       "slide_type": "fragment"
      }
     },
     "source": [
      "In-place sort by value. Default is ascending=True."
     ]
    },
    {
     "cell_type": "code",
     "collapsed": false,
     "input": [
      "s.sort()\n",
      "s"
     ],
     "language": "python",
     "metadata": {
      "slideshow": {
       "slide_type": "fragment"
      }
     },
     "outputs": [
      {
       "metadata": {},
       "output_type": "pyout",
       "prompt_number": 11,
       "text": [
        "Tom        0\n",
        "Mike       1\n",
        "Jane       2\n",
        "Mary       3\n",
        "Claudia    4\n",
        "dtype: int64"
       ]
      }
     ],
     "prompt_number": 11
    },
    {
     "cell_type": "code",
     "collapsed": false,
     "input": [
      "s"
     ],
     "language": "python",
     "metadata": {
      "slideshow": {
       "slide_type": "slide"
      }
     },
     "outputs": [
      {
       "metadata": {},
       "output_type": "pyout",
       "prompt_number": 12,
       "text": [
        "Tom        0\n",
        "Mike       1\n",
        "Jane       2\n",
        "Mary       3\n",
        "Claudia    4\n",
        "dtype: int64"
       ]
      }
     ],
     "prompt_number": 12
    },
    {
     "cell_type": "markdown",
     "metadata": {},
     "source": [
      "`sort_index()` returns a new Series, sorted by index."
     ]
    },
    {
     "cell_type": "code",
     "collapsed": false,
     "input": [
      "t = s.sort_index()\n",
      "t"
     ],
     "language": "python",
     "metadata": {
      "slideshow": {
       "slide_type": "fragment"
      }
     },
     "outputs": [
      {
       "metadata": {},
       "output_type": "pyout",
       "prompt_number": 13,
       "text": [
        "Claudia    4\n",
        "Jane       2\n",
        "Mary       3\n",
        "Mike       1\n",
        "Tom        0\n",
        "dtype: int64"
       ]
      }
     ],
     "prompt_number": 13
    },
    {
     "cell_type": "heading",
     "level": 2,
     "metadata": {
      "slideshow": {
       "slide_type": "slide"
      }
     },
     "source": [
      "Getting and setting are just like a dictionary."
     ]
    },
    {
     "cell_type": "code",
     "collapsed": false,
     "input": [
      "s['Claudia'] = 23\n",
      "s"
     ],
     "language": "python",
     "metadata": {
      "slideshow": {
       "slide_type": "fragment"
      }
     },
     "outputs": [
      {
       "metadata": {},
       "output_type": "pyout",
       "prompt_number": 14,
       "text": [
        "Tom         0\n",
        "Mike        1\n",
        "Jane        2\n",
        "Mary        3\n",
        "Claudia    23\n",
        "dtype: int64"
       ]
      }
     ],
     "prompt_number": 14
    },
    {
     "cell_type": "code",
     "collapsed": false,
     "input": [
      "'Tom' in s"
     ],
     "language": "python",
     "metadata": {
      "slideshow": {
       "slide_type": "fragment"
      }
     },
     "outputs": [
      {
       "metadata": {},
       "output_type": "pyout",
       "prompt_number": 15,
       "text": [
        "True"
       ]
      }
     ],
     "prompt_number": 15
    },
    {
     "cell_type": "markdown",
     "metadata": {
      "slideshow": {
       "slide_type": "fragment"
      }
     },
     "source": [
      "Use `np.nan` for default value for `get()`. Otherwise, `get()` will return `None`, when not found."
     ]
    },
    {
     "cell_type": "code",
     "collapsed": false,
     "input": [
      "s.get('NOBODY', np.nan)"
     ],
     "language": "python",
     "metadata": {
      "slideshow": {
       "slide_type": "fragment"
      }
     },
     "outputs": [
      {
       "metadata": {},
       "output_type": "pyout",
       "prompt_number": 16,
       "text": [
        "nan"
       ]
      }
     ],
     "prompt_number": 16
    },
    {
     "cell_type": "heading",
     "level": 2,
     "metadata": {
      "slideshow": {
       "slide_type": "slide"
      }
     },
     "source": [
      "`Series` automatically *aligns* data based on index."
     ]
    },
    {
     "cell_type": "code",
     "collapsed": false,
     "input": [
      "s1 = pd.Series({'a':1, 'b':2, 'c':3})\n",
      "s1"
     ],
     "language": "python",
     "metadata": {
      "slideshow": {
       "slide_type": "fragment"
      }
     },
     "outputs": [
      {
       "metadata": {},
       "output_type": "pyout",
       "prompt_number": 17,
       "text": [
        "a    1\n",
        "b    2\n",
        "c    3\n",
        "dtype: int64"
       ]
      }
     ],
     "prompt_number": 17
    },
    {
     "cell_type": "code",
     "collapsed": false,
     "input": [
      "s2 = pd.Series({'b':20, 'c':10, 'd':9})\n",
      "s2"
     ],
     "language": "python",
     "metadata": {
      "slideshow": {
       "slide_type": "fragment"
      }
     },
     "outputs": [
      {
       "metadata": {},
       "output_type": "pyout",
       "prompt_number": 18,
       "text": [
        "b    20\n",
        "c    10\n",
        "d     9\n",
        "dtype: int64"
       ]
      }
     ],
     "prompt_number": 18
    },
    {
     "cell_type": "markdown",
     "metadata": {
      "slideshow": {
       "slide_type": "slide"
      }
     },
     "source": [
      "The resulting index is a *union* of the input indices."
     ]
    },
    {
     "cell_type": "code",
     "collapsed": false,
     "input": [
      "s = s1 + s2\n",
      "s"
     ],
     "language": "python",
     "metadata": {
      "slideshow": {
       "slide_type": "fragment"
      }
     },
     "outputs": [
      {
       "metadata": {},
       "output_type": "pyout",
       "prompt_number": 19,
       "text": [
        "a   NaN\n",
        "b    22\n",
        "c    13\n",
        "d   NaN\n",
        "dtype: float64"
       ]
      }
     ],
     "prompt_number": 19
    },
    {
     "cell_type": "markdown",
     "metadata": {
      "slideshow": {
       "slide_type": "fragment"
      }
     },
     "source": [
      "Missing values (`np.nan` and `None`) can be dropped easily."
     ]
    },
    {
     "cell_type": "code",
     "collapsed": false,
     "input": [
      "s.dropna()"
     ],
     "language": "python",
     "metadata": {
      "slideshow": {
       "slide_type": "fragment"
      }
     },
     "outputs": [
      {
       "metadata": {},
       "output_type": "pyout",
       "prompt_number": 20,
       "text": [
        "b    22\n",
        "c    13\n",
        "dtype: float64"
       ]
      }
     ],
     "prompt_number": 20
    },
    {
     "cell_type": "heading",
     "level": 2,
     "metadata": {
      "slideshow": {
       "slide_type": "slide"
      }
     },
     "source": [
      "Example: Age-Specific Mortality"
     ]
    },
    {
     "cell_type": "markdown",
     "metadata": {},
     "source": [
      "Following German Rodriguez's nice Stata code available at his [web page](http://tinyurl.com/lndec87), let's graph Age-Specific Mortality."
     ]
    },
    {
     "cell_type": "markdown",
     "metadata": {},
     "source": [
      "We are going to read a bit newer data on White Population in US, 2009, from CDC's ftp server address found in the publication:\n",
      "\n",
      "> Arias, Elizabeth (2014) \"United States Life Tables, 2009\" *National Vital Statistics Reports* Vol. 62, No. 7. Hyattsville, MD: National Center for Health Statistics. Available [here](http://www.cdc.gov/nchs/data/nvsr/nvsr62/nvsr62_07.pdf)."
     ]
    },
    {
     "cell_type": "markdown",
     "metadata": {},
     "source": [
      "Download an excel file from CDC's ftp site and write it locally. `urllib.urlretrieve()` returns a tuple of (local) filename, and the header information, if successful."
     ]
    },
    {
     "cell_type": "code",
     "collapsed": false,
     "input": [
      "import urllib\n",
      "\n",
      "nchs = r'ftp://ftp.cdc.gov/pub/Health_Statistics/NCHS' \n",
      "ftp  = r'{0}/Publications/NVSR/62_07/Table04.xls'.format(nchs)\n",
      "xls = 'white2009.xls'\n",
      "urllib.urlretrieve(ftp, xls)"
     ],
     "language": "python",
     "metadata": {
      "slideshow": {
       "slide_type": "fragment"
      }
     },
     "outputs": [
      {
       "metadata": {},
       "output_type": "pyout",
       "prompt_number": 21,
       "text": [
        "('white2009.xls', <mimetools.Message instance at 0x10697a8c0>)"
       ]
      }
     ],
     "prompt_number": 21
    },
    {
     "cell_type": "heading",
     "level": 2,
     "metadata": {
      "slideshow": {
       "slide_type": "slide"
      }
     },
     "source": [
      "`pandas.read_excel` function can read the excel file"
     ]
    },
    {
     "cell_type": "markdown",
     "metadata": {},
     "source": [
      "Use zero-based indices for column and row numbers."
     ]
    },
    {
     "cell_type": "code",
     "collapsed": false,
     "input": [
      "xls = 'white2009.xls'\n",
      "options = {'header': 2, 'parse_cols': [2], 'skiprows': 6, 'skip_footer': 2}\n",
      "df = pd.read_excel(xls, 'Sheet1', **options)"
     ],
     "language": "python",
     "metadata": {},
     "outputs": [],
     "prompt_number": 22
    },
    {
     "cell_type": "markdown",
     "metadata": {
      "slideshow": {
       "slide_type": "fragment"
      }
     },
     "source": [
      "We then copy only one column (Series) out of the DataFrame returned from `read_excel()`. Let's see first a few rows."
     ]
    },
    {
     "cell_type": "code",
     "collapsed": false,
     "input": [
      "lx = df['l(x)'].copy()\n",
      "lx.head()"
     ],
     "language": "python",
     "metadata": {
      "slideshow": {
       "slide_type": "fragment"
      }
     },
     "outputs": [
      {
       "metadata": {},
       "output_type": "pyout",
       "prompt_number": 23,
       "text": [
        "0    100000.000000\n",
        "1     99472.078125\n",
        "2     99434.945312\n",
        "3     99409.906250\n",
        "4     99390.539062\n",
        "Name: l(x), dtype: float64"
       ]
      }
     ],
     "prompt_number": 23
    },
    {
     "cell_type": "markdown",
     "metadata": {
      "slideshow": {
       "slide_type": "fragment"
      }
     },
     "source": [
      "And the last a few rows."
     ]
    },
    {
     "cell_type": "code",
     "collapsed": false,
     "input": [
      "lx.tail()"
     ],
     "language": "python",
     "metadata": {
      "slideshow": {
       "slide_type": "fragment"
      }
     },
     "outputs": [
      {
       "metadata": {},
       "output_type": "pyout",
       "prompt_number": 24,
       "text": [
        "96     7127.180664\n",
        "97     5392.454102\n",
        "98     3973.862549\n",
        "99     2848.187988\n",
        "100    1982.758057\n",
        "Name: l(x), dtype: float64"
       ]
      }
     ],
     "prompt_number": 24
    },
    {
     "cell_type": "heading",
     "level": 2,
     "metadata": {
      "slideshow": {
       "slide_type": "slide"
      }
     },
     "source": [
      "We do some wrangling (munging, recoding, ...) and graphing"
     ]
    },
    {
     "cell_type": "code",
     "collapsed": false,
     "input": [
      "%matplotlib inline\n",
      "\n",
      "# convert to per-person\n",
      "lx /= 100000.0\n",
      "\n",
      "# cummulative hazard\n",
      "Hx = - np.log(lx)\n",
      "\n",
      "# shift(-1) brings up the value of the next row\n",
      "hx = Hx.shift(-1) - Hx               \n",
      "\n",
      "# take the mid-range value for age\n",
      "hx.index += 0.5\n",
      "\n",
      "# finally\n",
      "hx.plot(logy=True)"
     ],
     "language": "python",
     "metadata": {
      "slideshow": {
       "slide_type": "fragment"
      }
     },
     "outputs": [
      {
       "metadata": {},
       "output_type": "pyout",
       "prompt_number": 25,
       "text": [
        "<matplotlib.axes.AxesSubplot at 0x107dc8e90>"
       ]
      },
      {
       "metadata": {},
       "output_type": "display_data",
       "png": "[encoded data removed]",
       "text": [
        "<matplotlib.figure.Figure at 0x107dc8910>"
       ]
      }
     ],
     "prompt_number": 25
    },
    {
     "cell_type": "heading",
     "level": 2,
     "metadata": {
      "slideshow": {
       "slide_type": "slide"
      }
     },
     "source": [
      "Let's see how the Series, hx, looks:"
     ]
    },
    {
     "cell_type": "code",
     "collapsed": false,
     "input": [
      "hx.head()"
     ],
     "language": "python",
     "metadata": {
      "slideshow": {
       "slide_type": "fragment"
      }
     },
     "outputs": [
      {
       "metadata": {},
       "output_type": "pyout",
       "prompt_number": 26,
       "text": [
        "0.5    0.005293\n",
        "1.5    0.000373\n",
        "2.5    0.000252\n",
        "3.5    0.000195\n",
        "4.5    0.000148\n",
        "Name: l(x), dtype: float64"
       ]
      }
     ],
     "prompt_number": 26
    },
    {
     "cell_type": "code",
     "collapsed": false,
     "input": [
      "hx.tail()"
     ],
     "language": "python",
     "metadata": {
      "slideshow": {
       "slide_type": "fragment"
      }
     },
     "outputs": [
      {
       "metadata": {},
       "output_type": "pyout",
       "prompt_number": 27,
       "text": [
        "96.5     0.278915\n",
        "97.5     0.305262\n",
        "98.5     0.333056\n",
        "99.5     0.362194\n",
        "100.5         NaN\n",
        "Name: l(x), dtype: float64"
       ]
      }
     ],
     "prompt_number": 27
    },
    {
     "cell_type": "heading",
     "level": 2,
     "metadata": {
      "slideshow": {
       "slide_type": "slide"
      }
     },
     "source": [
      "Fit a line for those over 30 years old."
     ]
    },
    {
     "cell_type": "code",
     "collapsed": false,
     "input": [
      "import statsmodels.api as sm\n",
      "\n",
      "# more munging\n",
      "loghx = pd.Series(np.log(hx), name='loghx')[30:-1]\n",
      "am30 = pd.Series(hx.index, index=hx.index, name='am30')[30:-1] - 30.0\n",
      "\n",
      "# model fit\n",
      "model = sm.OLS(loghx, sm.add_constant(am30))\n",
      "result = model.fit()\n",
      "print result.params\n",
      "print 'R^2 : {:6.4f}'.format(result.rsquared)"
     ],
     "language": "python",
     "metadata": {},
     "outputs": [
      {
       "output_type": "stream",
       "stream": "stdout",
       "text": [
        "const   -7.308683\n",
        "am30     0.087695\n",
        "dtype: float64\n",
        "R^2 : 0.9949\n"
       ]
      }
     ],
     "prompt_number": 28
    },
    {
     "cell_type": "heading",
     "level": 2,
     "metadata": {
      "slideshow": {
       "slide_type": "slide"
      }
     },
     "source": [
      "Finally, we graph."
     ]
    },
    {
     "cell_type": "code",
     "collapsed": false,
     "input": [
      "# predicted value\n",
      "pred = model.predict(result.params).astype(np.float64, copy=False)\n",
      "hf = pd.Series(np.exp(pred), index=am30.index, name='hf')\n",
      "\n",
      "# plot\n",
      "hx.plot(logy=True)\n",
      "hf.plot(logy=True)"
     ],
     "language": "python",
     "metadata": {},
     "outputs": [
      {
       "metadata": {},
       "output_type": "pyout",
       "prompt_number": 29,
       "text": [
        "<matplotlib.axes.AxesSubplot at 0x107ed1e10>"
       ]
      },
      {
       "metadata": {},
       "output_type": "display_data",
       "png": "[encoded data removed]",
       "text": [
        "<matplotlib.figure.Figure at 0x107ed4b90>"
       ]
      }
     ],
     "prompt_number": 29
    },
    {
     "cell_type": "heading",
     "level": 2,
     "metadata": {
      "slideshow": {
       "slide_type": "slide"
      }
     },
     "source": [
      "Quiz"
     ]
    },
    {
     "cell_type": "markdown",
     "metadata": {},
     "source": [
      "There are other life tables in the same [report](http://www.cdc.gov/nchs/data/nvsr/nvsr62/nvsr62_07.pdf):\n",
      "\n",
      "* Total population\n",
      "* Males\n",
      "* Females\n",
      "* and so on ..."
     ]
    },
    {
     "cell_type": "heading",
     "level": 2,
     "metadata": {
      "slideshow": {
       "slide_type": "slide"
      }
     },
     "source": [
      "String Methods"
     ]
    },
    {
     "cell_type": "markdown",
     "metadata": {},
     "source": [
      "`Series` has the built-in string method equivalents. They, however:\n",
      "\n",
      "* are *vectorized*, so that it can be called with a whole `Series`;\n",
      "* made aware of the missing value (i.e., `np.nan`); and\n",
      "* have names that starts with `.str`"
     ]
    },
    {
     "cell_type": "code",
     "collapsed": false,
     "input": [
      "s = pd.Series(['Aaba', 'Baca', np.nan, 'CcDD'])\n",
      "s"
     ],
     "language": "python",
     "metadata": {},
     "outputs": [
      {
       "metadata": {},
       "output_type": "pyout",
       "prompt_number": 30,
       "text": [
        "0    Aaba\n",
        "1    Baca\n",
        "2     NaN\n",
        "3    CcDD\n",
        "dtype: object"
       ]
      }
     ],
     "prompt_number": 30
    },
    {
     "cell_type": "code",
     "collapsed": false,
     "input": [
      "lowered = s.str.lower()\n",
      "lowered"
     ],
     "language": "python",
     "metadata": {},
     "outputs": [
      {
       "metadata": {},
       "output_type": "pyout",
       "prompt_number": 31,
       "text": [
        "0    aaba\n",
        "1    baca\n",
        "2     NaN\n",
        "3    ccdd\n",
        "dtype: object"
       ]
      }
     ],
     "prompt_number": 31
    },
    {
     "cell_type": "markdown",
     "metadata": {
      "slideshow": {
       "slide_type": "slide"
      }
     },
     "source": [
      "`str.replace` and `str.findall` take regular expression, as well!"
     ]
    },
    {
     "cell_type": "markdown",
     "metadata": {},
     "source": [
      "* Finding out why Gracie could not medal in Sochi! :-) Notice that the `str.findall` returns a `Series`, whose elements are a list."
     ]
    },
    {
     "cell_type": "code",
     "collapsed": false,
     "input": [
      "s = pd.Series(['Adelina', 'Yuna', 'Carolina', 'Gracie'])\n",
      "ends_with_na = s.str.findall(r'.+na$')\n",
      "ends_with_na"
     ],
     "language": "python",
     "metadata": {},
     "outputs": [
      {
       "metadata": {},
       "output_type": "pyout",
       "prompt_number": 32,
       "text": [
        "0     [Adelina]\n",
        "1        [Yuna]\n",
        "2    [Carolina]\n",
        "3            []\n",
        "dtype: object"
       ]
      }
     ],
     "prompt_number": 32
    },
    {
     "cell_type": "markdown",
     "metadata": {
      "slideshow": {
       "slide_type": "slide"
      }
     },
     "source": [
      "* `str.replace()` relies on `re.sub()`."
     ]
    },
    {
     "cell_type": "code",
     "collapsed": false,
     "input": [
      "s"
     ],
     "language": "python",
     "metadata": {},
     "outputs": [
      {
       "metadata": {},
       "output_type": "pyout",
       "prompt_number": 33,
       "text": [
        "0     Adelina\n",
        "1        Yuna\n",
        "2    Carolina\n",
        "3      Gracie\n",
        "dtype: object"
       ]
      }
     ],
     "prompt_number": 33
    },
    {
     "cell_type": "code",
     "collapsed": false,
     "input": [
      "s.str.replace(r'(.+na)', r'\\g<0> medals')"
     ],
     "language": "python",
     "metadata": {},
     "outputs": [
      {
       "metadata": {},
       "output_type": "pyout",
       "prompt_number": 34,
       "text": [
        "0     Adelina medals\n",
        "1        Yuna medals\n",
        "2    Carolina medals\n",
        "3             Gracie\n",
        "dtype: object"
       ]
      }
     ],
     "prompt_number": 34
    },
    {
     "cell_type": "heading",
     "level": 2,
     "metadata": {
      "slideshow": {
       "slide_type": "slide"
      }
     },
     "source": [
      "Summary"
     ]
    },
    {
     "cell_type": "markdown",
     "metadata": {},
     "source": [
      "* Important data structures in pandas\n",
      "* `Series` has *indexed* values and with a *name.\n",
      "* `Series` is (like) a NumPy `ndarray`.\n",
      "* `Series` is (like) a dictionary, as well.\n",
      "* `Series` automatically aligns data based on index.\n",
      "* `Series` has many `.str` vectorized methods."
     ]
    }
   ],
   "metadata": {}
  }
 ]
}