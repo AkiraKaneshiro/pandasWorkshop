{
 "metadata": {
  "celltoolbar": "Slideshow",
  "name": "",
  "signature": "sha256:a916a7947639f31f0238ebffb2a75bb917e9d226c4999549ed03e14a3c8c9c28"
 },
 "nbformat": 3,
 "nbformat_minor": 0,
 "worksheets": [
  {
   "cells": [
    {
     "cell_type": "heading",
     "level": 1,
     "metadata": {
      "slideshow": {
       "slide_type": "slide"
      }
     },
     "source": [
      "Data Management with pandas (Python) 1"
     ]
    },
    {
     "cell_type": "markdown",
     "metadata": {},
     "source": [
      "May, 2014\n",
      "\n",
      "Chang Y. Chung"
     ]
    },
    {
     "cell_type": "heading",
     "level": 2,
     "metadata": {
      "slideshow": {
       "slide_type": "slide"
      }
     },
     "source": [
      "Overview"
     ]
    },
    {
     "cell_type": "markdown",
     "metadata": {},
     "source": [
      "Pandas provide data structures that are flexible containers for lower dimensional data. Two main objects are `Series` and `DataFrame`:"
     ]
    },
    {
     "cell_type": "markdown",
     "metadata": {
      "slideshow": {
       "slide_type": "fragment"
      }
     },
     "source": [
      "* `Series`: 1D labeled NumPy `ndarray`"
     ]
    },
    {
     "cell_type": "markdown",
     "metadata": {
      "slideshow": {
       "slide_type": "fragment"
      }
     },
     "source": [
      "* `DataFrame`: 2D labeled, table of potentially heterogeneously-typed `Series`"
     ]
    },
    {
     "cell_type": "markdown",
     "metadata": {
      "slideshow": {
       "slide_type": "fragment"
      }
     },
     "source": [
      "Also, there are `TimeSeries` (`Series` indexed by datetimes) and `Panel` (3D labeled table of `DataFrame`s)."
     ]
    },
    {
     "cell_type": "heading",
     "level": 2,
     "metadata": {
      "slideshow": {
       "slide_type": "slide"
      }
     },
     "source": [
      "`Series` is a NumPy `ndarray` with an axis `index` and `name`."
     ]
    },
    {
     "cell_type": "code",
     "collapsed": false,
     "input": [
      "import numpy as np\n",
      "import pandas as pd\n",
      "\n",
      "data = np.array([23, 31, 2, 3])  # ndarray\n",
      "data"
     ],
     "language": "python",
     "metadata": {
      "slideshow": {
       "slide_type": "fragment"
      }
     },
     "outputs": [
      {
       "metadata": {},
       "output_type": "pyout",
       "prompt_number": 70,
       "text": [
        "array([23, 31,  2,  3])"
       ]
      }
     ],
     "prompt_number": 70
    },
    {
     "cell_type": "code",
     "collapsed": false,
     "input": [
      "s = pd.Series(data, index=['a', 'b', 'c', 'd'], name='mySeries')\n",
      "s"
     ],
     "language": "python",
     "metadata": {
      "slideshow": {
       "slide_type": "fragment"
      }
     },
     "outputs": [
      {
       "metadata": {},
       "output_type": "pyout",
       "prompt_number": 71,
       "text": [
        "a    23\n",
        "b    31\n",
        "c     2\n",
        "d     3\n",
        "Name: mySeries, dtype: int64"
       ]
      }
     ],
     "prompt_number": 71
    },
    {
     "cell_type": "code",
     "collapsed": false,
     "input": [
      "s.index                     # u'...' is Python unicode literal"
     ],
     "language": "python",
     "metadata": {
      "slideshow": {
       "slide_type": "fragment"
      }
     },
     "outputs": [
      {
       "metadata": {},
       "output_type": "pyout",
       "prompt_number": 72,
       "text": [
        "Index([u'a', u'b', u'c', u'd'], dtype='object')"
       ]
      }
     ],
     "prompt_number": 72
    },
    {
     "cell_type": "heading",
     "level": 2,
     "metadata": {
      "slideshow": {
       "slide_type": "slide"
      }
     },
     "source": [
      "`Series` is like `ndarray`"
     ]
    },
    {
     "cell_type": "code",
     "collapsed": false,
     "input": [
      "s[0]                        # get by integer index"
     ],
     "language": "python",
     "metadata": {
      "slideshow": {
       "slide_type": "fragment"
      }
     },
     "outputs": [
      {
       "metadata": {},
       "output_type": "pyout",
       "prompt_number": 73,
       "text": [
        "23"
       ]
      }
     ],
     "prompt_number": 73
    },
    {
     "cell_type": "code",
     "collapsed": false,
     "input": [
      "s3 = s[:3]                  # slicing returns a view\n",
      "s3[0] = 999\n",
      "s"
     ],
     "language": "python",
     "metadata": {
      "slideshow": {
       "slide_type": "fragment"
      }
     },
     "outputs": [
      {
       "metadata": {},
       "output_type": "pyout",
       "prompt_number": 74,
       "text": [
        "a    999\n",
        "b     31\n",
        "c      2\n",
        "d      3\n",
        "Name: mySeries, dtype: int64"
       ]
      }
     ],
     "prompt_number": 74
    },
    {
     "cell_type": "code",
     "collapsed": false,
     "input": [
      "s"
     ],
     "language": "python",
     "metadata": {
      "slideshow": {
       "slide_type": "slide"
      }
     },
     "outputs": [
      {
       "metadata": {},
       "output_type": "pyout",
       "prompt_number": 75,
       "text": [
        "a    999\n",
        "b     31\n",
        "c      2\n",
        "d      3\n",
        "Name: mySeries, dtype: int64"
       ]
      }
     ],
     "prompt_number": 75
    },
    {
     "cell_type": "code",
     "collapsed": false,
     "input": [
      "above_median = s[s > s.median()]  # boolean indexing works as well\n",
      "above_median"
     ],
     "language": "python",
     "metadata": {
      "slideshow": {
       "slide_type": "fragment"
      }
     },
     "outputs": [
      {
       "metadata": {},
       "output_type": "pyout",
       "prompt_number": 76,
       "text": [
        "a    999\n",
        "b     31\n",
        "Name: mySeries, dtype: int64"
       ]
      }
     ],
     "prompt_number": 76
    },
    {
     "cell_type": "code",
     "collapsed": false,
     "input": [
      "s ** 0.5"
     ],
     "language": "python",
     "metadata": {
      "slideshow": {
       "slide_type": "slide"
      }
     },
     "outputs": [
      {
       "metadata": {},
       "output_type": "pyout",
       "prompt_number": 77,
       "text": [
        "a    31.606961\n",
        "b     5.567764\n",
        "c     1.414214\n",
        "d     1.732051\n",
        "Name: mySeries, dtype: float64"
       ]
      }
     ],
     "prompt_number": 77
    },
    {
     "cell_type": "code",
     "collapsed": false,
     "input": [
      "np.sqrt(s)"
     ],
     "language": "python",
     "metadata": {
      "slideshow": {
       "slide_type": "fragment"
      }
     },
     "outputs": [
      {
       "metadata": {},
       "output_type": "pyout",
       "prompt_number": 78,
       "text": [
        "a    31.606961\n",
        "b     5.567764\n",
        "c     1.414214\n",
        "d     1.732051\n",
        "Name: mySeries, dtype: float64"
       ]
      }
     ],
     "prompt_number": 78
    },
    {
     "cell_type": "heading",
     "level": 2,
     "metadata": {
      "slideshow": {
       "slide_type": "slide"
      }
     },
     "source": [
      "`Series` behaves like a dictionary, as well."
     ]
    },
    {
     "cell_type": "code",
     "collapsed": false,
     "input": [
      "s = pd.Series({               # creating a Series from a dictionary. Order is arbitrary.\n",
      "    'Tom': 0,\n",
      "    'Mike': 1,\n",
      "    'Jane': 2,\n",
      "    'Mary': 3,\n",
      "    'Claudia': 4\n",
      "})\n",
      "s"
     ],
     "language": "python",
     "metadata": {
      "slideshow": {
       "slide_type": "fragment"
      }
     },
     "outputs": [
      {
       "metadata": {},
       "output_type": "pyout",
       "prompt_number": 79,
       "text": [
        "Claudia    4\n",
        "Jane       2\n",
        "Mary       3\n",
        "Mike       1\n",
        "Tom        0\n",
        "dtype: int64"
       ]
      }
     ],
     "prompt_number": 79
    },
    {
     "cell_type": "code",
     "collapsed": false,
     "input": [
      "s.sort()                       # in-place sort by value. default is ascending: True\n",
      "s"
     ],
     "language": "python",
     "metadata": {
      "slideshow": {
       "slide_type": "fragment"
      }
     },
     "outputs": [
      {
       "metadata": {},
       "output_type": "pyout",
       "prompt_number": 80,
       "text": [
        "Tom        0\n",
        "Mike       1\n",
        "Jane       2\n",
        "Mary       3\n",
        "Claudia    4\n",
        "dtype: int64"
       ]
      }
     ],
     "prompt_number": 80
    },
    {
     "cell_type": "code",
     "collapsed": false,
     "input": [
      "s"
     ],
     "language": "python",
     "metadata": {
      "slideshow": {
       "slide_type": "slide"
      }
     },
     "outputs": [
      {
       "metadata": {},
       "output_type": "pyout",
       "prompt_number": 81,
       "text": [
        "Tom        0\n",
        "Mike       1\n",
        "Jane       2\n",
        "Mary       3\n",
        "Claudia    4\n",
        "dtype: int64"
       ]
      }
     ],
     "prompt_number": 81
    },
    {
     "cell_type": "code",
     "collapsed": false,
     "input": [
      "t = s.sort_index()                 # returns a new Series, sorted by index\n",
      "t"
     ],
     "language": "python",
     "metadata": {
      "slideshow": {
       "slide_type": "fragment"
      }
     },
     "outputs": [
      {
       "metadata": {},
       "output_type": "pyout",
       "prompt_number": 82,
       "text": [
        "Claudia    4\n",
        "Jane       2\n",
        "Mary       3\n",
        "Mike       1\n",
        "Tom        0\n",
        "dtype: int64"
       ]
      }
     ],
     "prompt_number": 82
    },
    {
     "cell_type": "heading",
     "level": 2,
     "metadata": {
      "slideshow": {
       "slide_type": "slide"
      }
     },
     "source": [
      "Getting and setting"
     ]
    },
    {
     "cell_type": "code",
     "collapsed": false,
     "input": [
      "s['Claudia'] = 23\n",
      "s"
     ],
     "language": "python",
     "metadata": {
      "slideshow": {
       "slide_type": "fragment"
      }
     },
     "outputs": [
      {
       "metadata": {},
       "output_type": "pyout",
       "prompt_number": 83,
       "text": [
        "Tom         0\n",
        "Mike        1\n",
        "Jane        2\n",
        "Mary        3\n",
        "Claudia    23\n",
        "dtype: int64"
       ]
      }
     ],
     "prompt_number": 83
    },
    {
     "cell_type": "code",
     "collapsed": false,
     "input": [
      "'Tom' in s"
     ],
     "language": "python",
     "metadata": {
      "slideshow": {
       "slide_type": "fragment"
      }
     },
     "outputs": [
      {
       "metadata": {},
       "output_type": "pyout",
       "prompt_number": 84,
       "text": [
        "True"
       ]
      }
     ],
     "prompt_number": 84
    },
    {
     "cell_type": "code",
     "collapsed": false,
     "input": [
      "s.get('NOBODY', np.nan)      # s['NOBODY'] errors. Use np.nan for a missing value!"
     ],
     "language": "python",
     "metadata": {
      "slideshow": {
       "slide_type": "fragment"
      }
     },
     "outputs": [
      {
       "metadata": {},
       "output_type": "pyout",
       "prompt_number": 85,
       "text": [
        "nan"
       ]
      }
     ],
     "prompt_number": 85
    },
    {
     "cell_type": "heading",
     "level": 2,
     "metadata": {
      "slideshow": {
       "slide_type": "slide"
      }
     },
     "source": [
      "`Series` automatically *aligns* data based on index."
     ]
    },
    {
     "cell_type": "code",
     "collapsed": false,
     "input": [
      "s1 = pd.Series({'a':1, 'b':2, 'c':3})\n",
      "s1"
     ],
     "language": "python",
     "metadata": {
      "slideshow": {
       "slide_type": "fragment"
      }
     },
     "outputs": [
      {
       "metadata": {},
       "output_type": "pyout",
       "prompt_number": 86,
       "text": [
        "a    1\n",
        "b    2\n",
        "c    3\n",
        "dtype: int64"
       ]
      }
     ],
     "prompt_number": 86
    },
    {
     "cell_type": "code",
     "collapsed": false,
     "input": [
      "s2 = pd.Series({'b':20, 'c':10, 'd':9})\n",
      "s2"
     ],
     "language": "python",
     "metadata": {
      "slideshow": {
       "slide_type": "fragment"
      }
     },
     "outputs": [
      {
       "metadata": {},
       "output_type": "pyout",
       "prompt_number": 87,
       "text": [
        "b    20\n",
        "c    10\n",
        "d     9\n",
        "dtype: int64"
       ]
      }
     ],
     "prompt_number": 87
    },
    {
     "cell_type": "code",
     "collapsed": false,
     "input": [
      "s = s1 + s2            # the resulting index is a union of the input indices\n",
      "s"
     ],
     "language": "python",
     "metadata": {
      "slideshow": {
       "slide_type": "fragment"
      }
     },
     "outputs": [
      {
       "metadata": {},
       "output_type": "pyout",
       "prompt_number": 88,
       "text": [
        "a   NaN\n",
        "b    22\n",
        "c    13\n",
        "d   NaN\n",
        "dtype: float64"
       ]
      }
     ],
     "prompt_number": 88
    },
    {
     "cell_type": "code",
     "collapsed": false,
     "input": [
      "s.dropna()             # dropping missing (np.nan)"
     ],
     "language": "python",
     "metadata": {
      "slideshow": {
       "slide_type": "fragment"
      }
     },
     "outputs": [
      {
       "metadata": {},
       "output_type": "pyout",
       "prompt_number": 89,
       "text": [
        "b    22\n",
        "c    13\n",
        "dtype: float64"
       ]
      }
     ],
     "prompt_number": 89
    },
    {
     "cell_type": "heading",
     "level": 2,
     "metadata": {
      "slideshow": {
       "slide_type": "slide"
      }
     },
     "source": [
      "Example: Age-Specific Mortality"
     ]
    },
    {
     "cell_type": "markdown",
     "metadata": {},
     "source": [
      "Following German Rodriguez's nice Stata code available at his [web page](http://tinyurl.com/lndec87), let's graph Age-Specific Mortality."
     ]
    },
    {
     "cell_type": "markdown",
     "metadata": {},
     "source": [
      "We are going to read a bit newer data on White Population in US, 2008, from CDC's ftp server address found in the publication:\n",
      "> http://www.cdc.gov/nchs/data/nvsr/nvsr61/nvsr61_03.pdf"
     ]
    },
    {
     "cell_type": "code",
     "collapsed": false,
     "input": [
      "import urllib\n",
      "\n",
      "nchs = r'ftp://ftp.cdc.gov/pub/Health_Statistics/NCHS' \n",
      "ftp  = r'{0}/Publications/NVSR/61_03/Table04.xls'.format(nchs)\n",
      "xls = 'white2008.xls'\n",
      "urllib.urlretrieve(ftp, xls)  # download and save locally"
     ],
     "language": "python",
     "metadata": {
      "slideshow": {
       "slide_type": "fragment"
      }
     },
     "outputs": [
      {
       "metadata": {},
       "output_type": "pyout",
       "prompt_number": 90,
       "text": [
        "('white2008.xls', <mimetools.Message instance at 0x10a3bfb90>)"
       ]
      }
     ],
     "prompt_number": 90
    },
    {
     "cell_type": "heading",
     "level": 2,
     "metadata": {
      "slideshow": {
       "slide_type": "slide"
      }
     },
     "source": [
      "`pandas.read_excel` function can read the excel file. Use zero-based indices for column and row numbers."
     ]
    },
    {
     "cell_type": "code",
     "collapsed": false,
     "input": [
      "xls = 'white2008.xls'\n",
      "options = {'header': 2, 'parse_cols': [2], 'skiprows': 1, 'skip_footer': 2}\n",
      "df = pd.read_excel(xls, 'Data', **options)     # returns a DataFrame\n",
      "lx = df.lx.copy()                              # let's extract a Series from the DataFrame\n",
      "lx.head()                                      # first a few rows"
     ],
     "language": "python",
     "metadata": {
      "slideshow": {
       "slide_type": "fragment"
      }
     },
     "outputs": [
      {
       "metadata": {},
       "output_type": "pyout",
       "prompt_number": 91,
       "text": [
        "0    100000.000000\n",
        "1     99446.523438\n",
        "2     99403.867188\n",
        "3     99378.140625\n",
        "4     99358.593750\n",
        "Name: lx, dtype: float64"
       ]
      }
     ],
     "prompt_number": 91
    },
    {
     "cell_type": "code",
     "collapsed": false,
     "input": [
      "lx.tail()                                   # last a few rows"
     ],
     "language": "python",
     "metadata": {
      "slideshow": {
       "slide_type": "fragment"
      }
     },
     "outputs": [
      {
       "metadata": {},
       "output_type": "pyout",
       "prompt_number": 92,
       "text": [
        "96     6308.593750\n",
        "97     4687.738770\n",
        "98     3385.467285\n",
        "99     2372.747803\n",
        "100    1611.670654\n",
        "Name: lx, dtype: float64"
       ]
      }
     ],
     "prompt_number": 92
    },
    {
     "cell_type": "heading",
     "level": 2,
     "metadata": {
      "slideshow": {
       "slide_type": "slide"
      }
     },
     "source": [
      "We do some wrangling (munging, recoding, ...) and graphing"
     ]
    },
    {
     "cell_type": "code",
     "collapsed": false,
     "input": [
      "%matplotlib inline\n",
      "\n",
      "lx /= 100000.0                 # in-place updates\n",
      "Hx = - np.log(lx)              # cummulative hazard\n",
      "hx = Hx.shift(-1) - Hx         # shift(-1) brings up the value of the next row to current               \n",
      "\n",
      "hx.index += 0.5\n",
      "hx.plot(logy=True)"
     ],
     "language": "python",
     "metadata": {
      "slideshow": {
       "slide_type": "fragment"
      }
     },
     "outputs": [
      {
       "metadata": {},
       "output_type": "pyout",
       "prompt_number": 93,
       "text": [
        "<matplotlib.axes.AxesSubplot at 0x10a3b02d0>"
       ]
      },
      {
       "metadata": {},
       "output_type": "display_data",
       "png": "[encoded data removed]",
       "text": [
        "<matplotlib.figure.Figure at 0x10a3b3b50>"
       ]
      }
     ],
     "prompt_number": 93
    },
    {
     "cell_type": "heading",
     "level": 2,
     "metadata": {
      "slideshow": {
       "slide_type": "slide"
      }
     },
     "source": [
      "Let's see how the Series, hx, looks:"
     ]
    },
    {
     "cell_type": "code",
     "collapsed": false,
     "input": [
      "hx.head()"
     ],
     "language": "python",
     "metadata": {
      "slideshow": {
       "slide_type": "fragment"
      }
     },
     "outputs": [
      {
       "metadata": {},
       "output_type": "pyout",
       "prompt_number": 94,
       "text": [
        "0.5    0.005550\n",
        "1.5    0.000429\n",
        "2.5    0.000259\n",
        "3.5    0.000197\n",
        "4.5    0.000155\n",
        "Name: lx, dtype: float64"
       ]
      }
     ],
     "prompt_number": 94
    },
    {
     "cell_type": "code",
     "collapsed": false,
     "input": [
      "hx.tail()"
     ],
     "language": "python",
     "metadata": {
      "slideshow": {
       "slide_type": "fragment"
      }
     },
     "outputs": [
      {
       "metadata": {},
       "output_type": "pyout",
       "prompt_number": 95,
       "text": [
        "96.5     0.296962\n",
        "97.5     0.325458\n",
        "98.5     0.355443\n",
        "99.5     0.386777\n",
        "100.5         NaN\n",
        "Name: lx, dtype: float64"
       ]
      }
     ],
     "prompt_number": 95
    },
    {
     "cell_type": "heading",
     "level": 2,
     "metadata": {
      "slideshow": {
       "slide_type": "slide"
      }
     },
     "source": [
      "Fit a line for those over 30 years old."
     ]
    },
    {
     "cell_type": "code",
     "collapsed": false,
     "input": [
      "import statsmodels.api as sm\n",
      "\n",
      "# more munging\n",
      "loghx = pd.Series(np.log(hx), name='loghx')[30:-1]\n",
      "am30 = pd.Series(hx.index, index=hx.index, name='am30')[30:-1] - 30.0\n",
      "\n",
      "# model fit\n",
      "model = sm.OLS(loghx, sm.add_constant(am30))\n",
      "result = model.fit()\n",
      "print result.params\n",
      "print 'R^2 : {:6.4f}'.format(result.rsquared)"
     ],
     "language": "python",
     "metadata": {},
     "outputs": [
      {
       "output_type": "stream",
       "stream": "stdout",
       "text": [
        "const   -7.329953\n",
        "am30     0.088904\n",
        "dtype: float64\n",
        "R^2 : 0.9950\n"
       ]
      }
     ],
     "prompt_number": 96
    },
    {
     "cell_type": "heading",
     "level": 2,
     "metadata": {
      "slideshow": {
       "slide_type": "slide"
      }
     },
     "source": [
      "Finally, we graph."
     ]
    },
    {
     "cell_type": "code",
     "collapsed": false,
     "input": [
      "# predicted value\n",
      "pred = model.predict(result.params).astype(np.float64, copy=False)\n",
      "hf = pd.Series(np.exp(pred), index=am30.index, name='hf')\n",
      "\n",
      "# plot\n",
      "hx.plot(logy=True)\n",
      "hf.plot(logy=True)"
     ],
     "language": "python",
     "metadata": {},
     "outputs": [
      {
       "metadata": {},
       "output_type": "pyout",
       "prompt_number": 97,
       "text": [
        "<matplotlib.axes.AxesSubplot at 0x107ed1790>"
       ]
      },
      {
       "metadata": {},
       "output_type": "display_data",
       "png": "[encoded data removed]",
       "text": [
        "<matplotlib.figure.Figure at 0x10a0806d0>"
       ]
      }
     ],
     "prompt_number": 97
    }
   ],
   "metadata": {}
  }
 ]
}